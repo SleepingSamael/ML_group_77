{
 "cells": [
  {
   "cell_type": "markdown",
   "metadata": {},
   "source": [
    "this worksheets is part of the [mlvu machine learning course](https://mlvu.github.io)<br>\n",
    "setting up your environment: https://bit.ly/3bzpn5C\n",
    "\n",
    "For this worksheet, we'll need to install the pandas package. Run the cell below, or run ```pip install pandas``` in the terminal/command-line/command prompt."
   ]
  },
  {
   "cell_type": "code",
   "execution_count": 7,
   "metadata": {},
   "outputs": [],
   "source": [
    "#!pip install pandas"
   ]
  },
  {
   "cell_type": "markdown",
   "metadata": {},
   "source": [
    "# Worksheet 3: Pandas\n",
    "\n",
    "Pandas is a python package for data analysis. Where numpy is a package built around a the data structure of a <em>matrix</em>, pandas is a package built around the data structure of a _dataframe_. A dataframe is a lot like a matrix, with some key differences:\n",
    "\n",
    "* In a data frame, the columns have header names. \n",
    "* Different datatypes (int, string, boolean) are allowed within the same dataframe. Each column has its own datatype\n",
    "\n",
    "In short, dataframes represent datasets of the kind we've seen in the lectures: an instance per row, and a feature per column. \n",
    "\n",
    "Pandas is designed to work together with numpy and matplotlib. Let's import all of them"
   ]
  },
  {
   "cell_type": "code",
   "execution_count": 8,
   "metadata": {},
   "outputs": [],
   "source": [
    "import numpy as np\n",
    "import pandas as pd\n",
    "import matplotlib.pyplot as plt\n",
    "%matplotlib inline"
   ]
  },
  {
   "cell_type": "markdown",
   "metadata": {},
   "source": [
    "To explore Pandas we'll import the ANSUR II dataset (we also used this to create the examples in the first lecture). ANSUR II is an _anthropometric_ dataset: it contains body measurements. ANSUR II contains 108 measurements for about 4000 men and about 2000 women (all US soldiers).\n",
    "\n",
    "We'll start by reading the data. Like numpy, pandas has a function for reading CSV files. Pandas' function is much more robust, and much less likely to give you trouble. It does come with [a lot of options](https://pandas.pydata.org/pandas-docs/stable/generated/pandas.read_csv.html), so you may have to try a few things before you get it to read your data accurately.\n",
    "\n",
    "ANSUR II comes in two separate tables: one for male soldiers, and one for female soldiers:"
   ]
  },
  {
   "cell_type": "code",
   "execution_count": 9,
   "metadata": {},
   "outputs": [],
   "source": [
    "female = pd.read_csv('./ansur/ANSUR II FEMALE Public.csv')\n",
    "male = pd.read_csv('./ansur/ANSUR II MALE Public.csv')"
   ]
  },
  {
   "cell_type": "markdown",
   "metadata": {},
   "source": [
    "All the warnings from the first two social impact videos, and from the fourth lecture apply here. This is not a sample that is representative of the population, and the gender class is a sensitive attribute that is poorly captured by two classes.\n",
    "\n",
    "```male``` and ```female``` are pandas DataFrame objects. Jupyter notebooks will print these as tables:"
   ]
  },
  {
   "cell_type": "code",
   "execution_count": 10,
   "metadata": {
    "scrolled": false
   },
   "outputs": [
    {
     "data": {
      "text/html": [
       "<div>\n",
       "<style scoped>\n",
       "    .dataframe tbody tr th:only-of-type {\n",
       "        vertical-align: middle;\n",
       "    }\n",
       "\n",
       "    .dataframe tbody tr th {\n",
       "        vertical-align: top;\n",
       "    }\n",
       "\n",
       "    .dataframe thead th {\n",
       "        text-align: right;\n",
       "    }\n",
       "</style>\n",
       "<table border=\"1\" class=\"dataframe\">\n",
       "  <thead>\n",
       "    <tr style=\"text-align: right;\">\n",
       "      <th></th>\n",
       "      <th>subjectid</th>\n",
       "      <th>abdominalextensiondepthsitting</th>\n",
       "      <th>acromialheight</th>\n",
       "      <th>acromionradialelength</th>\n",
       "      <th>anklecircumference</th>\n",
       "      <th>axillaheight</th>\n",
       "      <th>balloffootcircumference</th>\n",
       "      <th>balloffootlength</th>\n",
       "      <th>biacromialbreadth</th>\n",
       "      <th>bicepscircumferenceflexed</th>\n",
       "      <th>...</th>\n",
       "      <th>Branch</th>\n",
       "      <th>PrimaryMOS</th>\n",
       "      <th>SubjectsBirthLocation</th>\n",
       "      <th>SubjectNumericRace</th>\n",
       "      <th>Ethnicity</th>\n",
       "      <th>DODRace</th>\n",
       "      <th>Age</th>\n",
       "      <th>Heightin</th>\n",
       "      <th>Weightlbs</th>\n",
       "      <th>WritingPreference</th>\n",
       "    </tr>\n",
       "  </thead>\n",
       "  <tbody>\n",
       "    <tr>\n",
       "      <th>0</th>\n",
       "      <td>10027</td>\n",
       "      <td>266</td>\n",
       "      <td>1467</td>\n",
       "      <td>337</td>\n",
       "      <td>222</td>\n",
       "      <td>1347</td>\n",
       "      <td>253</td>\n",
       "      <td>202</td>\n",
       "      <td>401</td>\n",
       "      <td>369</td>\n",
       "      <td>...</td>\n",
       "      <td>Combat Arms</td>\n",
       "      <td>19D</td>\n",
       "      <td>North Dakota</td>\n",
       "      <td>1</td>\n",
       "      <td>NaN</td>\n",
       "      <td>1</td>\n",
       "      <td>41</td>\n",
       "      <td>71</td>\n",
       "      <td>180</td>\n",
       "      <td>Right hand</td>\n",
       "    </tr>\n",
       "    <tr>\n",
       "      <th>1</th>\n",
       "      <td>10032</td>\n",
       "      <td>233</td>\n",
       "      <td>1395</td>\n",
       "      <td>326</td>\n",
       "      <td>220</td>\n",
       "      <td>1293</td>\n",
       "      <td>245</td>\n",
       "      <td>193</td>\n",
       "      <td>394</td>\n",
       "      <td>338</td>\n",
       "      <td>...</td>\n",
       "      <td>Combat Support</td>\n",
       "      <td>68W</td>\n",
       "      <td>New York</td>\n",
       "      <td>1</td>\n",
       "      <td>NaN</td>\n",
       "      <td>1</td>\n",
       "      <td>35</td>\n",
       "      <td>68</td>\n",
       "      <td>160</td>\n",
       "      <td>Left hand</td>\n",
       "    </tr>\n",
       "    <tr>\n",
       "      <th>2</th>\n",
       "      <td>10033</td>\n",
       "      <td>287</td>\n",
       "      <td>1430</td>\n",
       "      <td>341</td>\n",
       "      <td>230</td>\n",
       "      <td>1327</td>\n",
       "      <td>256</td>\n",
       "      <td>196</td>\n",
       "      <td>427</td>\n",
       "      <td>408</td>\n",
       "      <td>...</td>\n",
       "      <td>Combat Support</td>\n",
       "      <td>68W</td>\n",
       "      <td>New York</td>\n",
       "      <td>2</td>\n",
       "      <td>NaN</td>\n",
       "      <td>2</td>\n",
       "      <td>42</td>\n",
       "      <td>68</td>\n",
       "      <td>205</td>\n",
       "      <td>Left hand</td>\n",
       "    </tr>\n",
       "    <tr>\n",
       "      <th>3</th>\n",
       "      <td>10092</td>\n",
       "      <td>234</td>\n",
       "      <td>1347</td>\n",
       "      <td>310</td>\n",
       "      <td>230</td>\n",
       "      <td>1239</td>\n",
       "      <td>262</td>\n",
       "      <td>199</td>\n",
       "      <td>401</td>\n",
       "      <td>359</td>\n",
       "      <td>...</td>\n",
       "      <td>Combat Service Support</td>\n",
       "      <td>88M</td>\n",
       "      <td>Wisconsin</td>\n",
       "      <td>1</td>\n",
       "      <td>NaN</td>\n",
       "      <td>1</td>\n",
       "      <td>31</td>\n",
       "      <td>66</td>\n",
       "      <td>175</td>\n",
       "      <td>Right hand</td>\n",
       "    </tr>\n",
       "    <tr>\n",
       "      <th>4</th>\n",
       "      <td>10093</td>\n",
       "      <td>250</td>\n",
       "      <td>1585</td>\n",
       "      <td>372</td>\n",
       "      <td>247</td>\n",
       "      <td>1478</td>\n",
       "      <td>267</td>\n",
       "      <td>224</td>\n",
       "      <td>435</td>\n",
       "      <td>356</td>\n",
       "      <td>...</td>\n",
       "      <td>Combat Service Support</td>\n",
       "      <td>92G</td>\n",
       "      <td>North Carolina</td>\n",
       "      <td>2</td>\n",
       "      <td>NaN</td>\n",
       "      <td>2</td>\n",
       "      <td>21</td>\n",
       "      <td>77</td>\n",
       "      <td>213</td>\n",
       "      <td>Right hand</td>\n",
       "    </tr>\n",
       "    <tr>\n",
       "      <th>...</th>\n",
       "      <td>...</td>\n",
       "      <td>...</td>\n",
       "      <td>...</td>\n",
       "      <td>...</td>\n",
       "      <td>...</td>\n",
       "      <td>...</td>\n",
       "      <td>...</td>\n",
       "      <td>...</td>\n",
       "      <td>...</td>\n",
       "      <td>...</td>\n",
       "      <td>...</td>\n",
       "      <td>...</td>\n",
       "      <td>...</td>\n",
       "      <td>...</td>\n",
       "      <td>...</td>\n",
       "      <td>...</td>\n",
       "      <td>...</td>\n",
       "      <td>...</td>\n",
       "      <td>...</td>\n",
       "      <td>...</td>\n",
       "      <td>...</td>\n",
       "    </tr>\n",
       "    <tr>\n",
       "      <th>4077</th>\n",
       "      <td>29442</td>\n",
       "      <td>235</td>\n",
       "      <td>1353</td>\n",
       "      <td>312</td>\n",
       "      <td>216</td>\n",
       "      <td>1263</td>\n",
       "      <td>228</td>\n",
       "      <td>193</td>\n",
       "      <td>384</td>\n",
       "      <td>318</td>\n",
       "      <td>...</td>\n",
       "      <td>Combat Arms</td>\n",
       "      <td>11B</td>\n",
       "      <td>Colorado</td>\n",
       "      <td>51</td>\n",
       "      <td>Blackfoot Cherokee Choctaw</td>\n",
       "      <td>1</td>\n",
       "      <td>22</td>\n",
       "      <td>67</td>\n",
       "      <td>160</td>\n",
       "      <td>Right hand</td>\n",
       "    </tr>\n",
       "    <tr>\n",
       "      <th>4078</th>\n",
       "      <td>29443</td>\n",
       "      <td>247</td>\n",
       "      <td>1473</td>\n",
       "      <td>336</td>\n",
       "      <td>234</td>\n",
       "      <td>1346</td>\n",
       "      <td>253</td>\n",
       "      <td>196</td>\n",
       "      <td>428</td>\n",
       "      <td>374</td>\n",
       "      <td>...</td>\n",
       "      <td>Combat Arms</td>\n",
       "      <td>91B</td>\n",
       "      <td>Oklahoma</td>\n",
       "      <td>1</td>\n",
       "      <td>NaN</td>\n",
       "      <td>1</td>\n",
       "      <td>22</td>\n",
       "      <td>71</td>\n",
       "      <td>194</td>\n",
       "      <td>Right hand</td>\n",
       "    </tr>\n",
       "    <tr>\n",
       "      <th>4079</th>\n",
       "      <td>29447</td>\n",
       "      <td>264</td>\n",
       "      <td>1394</td>\n",
       "      <td>313</td>\n",
       "      <td>227</td>\n",
       "      <td>1280</td>\n",
       "      <td>245</td>\n",
       "      <td>193</td>\n",
       "      <td>407</td>\n",
       "      <td>367</td>\n",
       "      <td>...</td>\n",
       "      <td>Combat Arms</td>\n",
       "      <td>13B</td>\n",
       "      <td>Oklahoma</td>\n",
       "      <td>1</td>\n",
       "      <td>NaN</td>\n",
       "      <td>1</td>\n",
       "      <td>23</td>\n",
       "      <td>67</td>\n",
       "      <td>186</td>\n",
       "      <td>Right hand</td>\n",
       "    </tr>\n",
       "    <tr>\n",
       "      <th>4080</th>\n",
       "      <td>29451</td>\n",
       "      <td>203</td>\n",
       "      <td>1417</td>\n",
       "      <td>327</td>\n",
       "      <td>223</td>\n",
       "      <td>1314</td>\n",
       "      <td>250</td>\n",
       "      <td>196</td>\n",
       "      <td>419</td>\n",
       "      <td>365</td>\n",
       "      <td>...</td>\n",
       "      <td>Combat Arms</td>\n",
       "      <td>13P</td>\n",
       "      <td>Oklahoma</td>\n",
       "      <td>1</td>\n",
       "      <td>NaN</td>\n",
       "      <td>1</td>\n",
       "      <td>22</td>\n",
       "      <td>69</td>\n",
       "      <td>165</td>\n",
       "      <td>Right hand</td>\n",
       "    </tr>\n",
       "    <tr>\n",
       "      <th>4081</th>\n",
       "      <td>29452</td>\n",
       "      <td>327</td>\n",
       "      <td>1523</td>\n",
       "      <td>358</td>\n",
       "      <td>226</td>\n",
       "      <td>1408</td>\n",
       "      <td>269</td>\n",
       "      <td>225</td>\n",
       "      <td>442</td>\n",
       "      <td>379</td>\n",
       "      <td>...</td>\n",
       "      <td>Combat Arms</td>\n",
       "      <td>92Y</td>\n",
       "      <td>Oklahoma</td>\n",
       "      <td>1</td>\n",
       "      <td>NaN</td>\n",
       "      <td>1</td>\n",
       "      <td>38</td>\n",
       "      <td>73</td>\n",
       "      <td>218</td>\n",
       "      <td>Right hand</td>\n",
       "    </tr>\n",
       "  </tbody>\n",
       "</table>\n",
       "<p>4082 rows × 108 columns</p>\n",
       "</div>"
      ],
      "text/plain": [
       "      subjectid  abdominalextensiondepthsitting  acromialheight  \\\n",
       "0         10027                             266            1467   \n",
       "1         10032                             233            1395   \n",
       "2         10033                             287            1430   \n",
       "3         10092                             234            1347   \n",
       "4         10093                             250            1585   \n",
       "...         ...                             ...             ...   \n",
       "4077      29442                             235            1353   \n",
       "4078      29443                             247            1473   \n",
       "4079      29447                             264            1394   \n",
       "4080      29451                             203            1417   \n",
       "4081      29452                             327            1523   \n",
       "\n",
       "      acromionradialelength  anklecircumference  axillaheight  \\\n",
       "0                       337                 222          1347   \n",
       "1                       326                 220          1293   \n",
       "2                       341                 230          1327   \n",
       "3                       310                 230          1239   \n",
       "4                       372                 247          1478   \n",
       "...                     ...                 ...           ...   \n",
       "4077                    312                 216          1263   \n",
       "4078                    336                 234          1346   \n",
       "4079                    313                 227          1280   \n",
       "4080                    327                 223          1314   \n",
       "4081                    358                 226          1408   \n",
       "\n",
       "      balloffootcircumference  balloffootlength  biacromialbreadth  \\\n",
       "0                         253               202                401   \n",
       "1                         245               193                394   \n",
       "2                         256               196                427   \n",
       "3                         262               199                401   \n",
       "4                         267               224                435   \n",
       "...                       ...               ...                ...   \n",
       "4077                      228               193                384   \n",
       "4078                      253               196                428   \n",
       "4079                      245               193                407   \n",
       "4080                      250               196                419   \n",
       "4081                      269               225                442   \n",
       "\n",
       "      bicepscircumferenceflexed  ...                  Branch  PrimaryMOS  \\\n",
       "0                           369  ...             Combat Arms         19D   \n",
       "1                           338  ...          Combat Support         68W   \n",
       "2                           408  ...          Combat Support         68W   \n",
       "3                           359  ...  Combat Service Support         88M   \n",
       "4                           356  ...  Combat Service Support         92G   \n",
       "...                         ...  ...                     ...         ...   \n",
       "4077                        318  ...             Combat Arms         11B   \n",
       "4078                        374  ...             Combat Arms         91B   \n",
       "4079                        367  ...             Combat Arms         13B   \n",
       "4080                        365  ...             Combat Arms         13P   \n",
       "4081                        379  ...             Combat Arms         92Y   \n",
       "\n",
       "      SubjectsBirthLocation  SubjectNumericRace                   Ethnicity  \\\n",
       "0              North Dakota                   1                         NaN   \n",
       "1                  New York                   1                         NaN   \n",
       "2                  New York                   2                         NaN   \n",
       "3                 Wisconsin                   1                         NaN   \n",
       "4            North Carolina                   2                         NaN   \n",
       "...                     ...                 ...                         ...   \n",
       "4077               Colorado                  51  Blackfoot Cherokee Choctaw   \n",
       "4078               Oklahoma                   1                         NaN   \n",
       "4079               Oklahoma                   1                         NaN   \n",
       "4080               Oklahoma                   1                         NaN   \n",
       "4081               Oklahoma                   1                         NaN   \n",
       "\n",
       "      DODRace  Age  Heightin  Weightlbs  WritingPreference  \n",
       "0           1   41        71        180         Right hand  \n",
       "1           1   35        68        160          Left hand  \n",
       "2           2   42        68        205          Left hand  \n",
       "3           1   31        66        175         Right hand  \n",
       "4           2   21        77        213         Right hand  \n",
       "...       ...  ...       ...        ...                ...  \n",
       "4077        1   22        67        160         Right hand  \n",
       "4078        1   22        71        194         Right hand  \n",
       "4079        1   23        67        186         Right hand  \n",
       "4080        1   22        69        165         Right hand  \n",
       "4081        1   38        73        218         Right hand  \n",
       "\n",
       "[4082 rows x 108 columns]"
      ]
     },
     "execution_count": 10,
     "metadata": {},
     "output_type": "execute_result"
    }
   ],
   "source": [
    "male"
   ]
  },
  {
   "cell_type": "markdown",
   "metadata": {
    "collapsed": true
   },
   "source": [
    "These are big dataframes. Pandas can give us some quick summary statistics per column very easily."
   ]
  },
  {
   "cell_type": "code",
   "execution_count": 11,
   "metadata": {},
   "outputs": [
    {
     "data": {
      "text/html": [
       "<div>\n",
       "<style scoped>\n",
       "    .dataframe tbody tr th:only-of-type {\n",
       "        vertical-align: middle;\n",
       "    }\n",
       "\n",
       "    .dataframe tbody tr th {\n",
       "        vertical-align: top;\n",
       "    }\n",
       "\n",
       "    .dataframe thead th {\n",
       "        text-align: right;\n",
       "    }\n",
       "</style>\n",
       "<table border=\"1\" class=\"dataframe\">\n",
       "  <thead>\n",
       "    <tr style=\"text-align: right;\">\n",
       "      <th></th>\n",
       "      <th>subjectid</th>\n",
       "      <th>abdominalextensiondepthsitting</th>\n",
       "      <th>acromialheight</th>\n",
       "      <th>acromionradialelength</th>\n",
       "      <th>anklecircumference</th>\n",
       "      <th>axillaheight</th>\n",
       "      <th>balloffootcircumference</th>\n",
       "      <th>balloffootlength</th>\n",
       "      <th>biacromialbreadth</th>\n",
       "      <th>bicepscircumferenceflexed</th>\n",
       "      <th>...</th>\n",
       "      <th>waistfrontlengthsitting</th>\n",
       "      <th>waistheightomphalion</th>\n",
       "      <th>weightkg</th>\n",
       "      <th>wristcircumference</th>\n",
       "      <th>wristheight</th>\n",
       "      <th>SubjectNumericRace</th>\n",
       "      <th>DODRace</th>\n",
       "      <th>Age</th>\n",
       "      <th>Heightin</th>\n",
       "      <th>Weightlbs</th>\n",
       "    </tr>\n",
       "  </thead>\n",
       "  <tbody>\n",
       "    <tr>\n",
       "      <th>count</th>\n",
       "      <td>4082.000000</td>\n",
       "      <td>4082.000000</td>\n",
       "      <td>4082.000000</td>\n",
       "      <td>4082.000000</td>\n",
       "      <td>4082.000000</td>\n",
       "      <td>4082.000000</td>\n",
       "      <td>4082.000000</td>\n",
       "      <td>4082.000000</td>\n",
       "      <td>4082.000000</td>\n",
       "      <td>4082.000000</td>\n",
       "      <td>...</td>\n",
       "      <td>4082.000000</td>\n",
       "      <td>4082.000000</td>\n",
       "      <td>4082.000000</td>\n",
       "      <td>4082.000000</td>\n",
       "      <td>4082.000000</td>\n",
       "      <td>4082.000000</td>\n",
       "      <td>4082.000000</td>\n",
       "      <td>4082.000000</td>\n",
       "      <td>4082.000000</td>\n",
       "      <td>4082.000000</td>\n",
       "    </tr>\n",
       "    <tr>\n",
       "      <th>mean</th>\n",
       "      <td>20003.370897</td>\n",
       "      <td>254.650906</td>\n",
       "      <td>1440.736894</td>\n",
       "      <td>335.244488</td>\n",
       "      <td>229.343949</td>\n",
       "      <td>1329.082068</td>\n",
       "      <td>252.017148</td>\n",
       "      <td>200.935081</td>\n",
       "      <td>415.675649</td>\n",
       "      <td>358.135718</td>\n",
       "      <td>...</td>\n",
       "      <td>387.642822</td>\n",
       "      <td>1056.485301</td>\n",
       "      <td>855.239588</td>\n",
       "      <td>175.916707</td>\n",
       "      <td>847.511514</td>\n",
       "      <td>8.973542</td>\n",
       "      <td>1.534052</td>\n",
       "      <td>30.158991</td>\n",
       "      <td>70.035767</td>\n",
       "      <td>188.004900</td>\n",
       "    </tr>\n",
       "    <tr>\n",
       "      <th>std</th>\n",
       "      <td>6568.435122</td>\n",
       "      <td>37.327178</td>\n",
       "      <td>63.287242</td>\n",
       "      <td>17.482795</td>\n",
       "      <td>14.649102</td>\n",
       "      <td>59.516123</td>\n",
       "      <td>12.936131</td>\n",
       "      <td>10.470947</td>\n",
       "      <td>19.161654</td>\n",
       "      <td>34.618093</td>\n",
       "      <td>...</td>\n",
       "      <td>29.349007</td>\n",
       "      <td>52.154671</td>\n",
       "      <td>142.206992</td>\n",
       "      <td>8.955055</td>\n",
       "      <td>41.655628</td>\n",
       "      <td>83.012638</td>\n",
       "      <td>0.958815</td>\n",
       "      <td>8.810118</td>\n",
       "      <td>2.947419</td>\n",
       "      <td>29.941869</td>\n",
       "    </tr>\n",
       "    <tr>\n",
       "      <th>min</th>\n",
       "      <td>10027.000000</td>\n",
       "      <td>163.000000</td>\n",
       "      <td>1194.000000</td>\n",
       "      <td>270.000000</td>\n",
       "      <td>156.000000</td>\n",
       "      <td>1106.000000</td>\n",
       "      <td>186.000000</td>\n",
       "      <td>156.000000</td>\n",
       "      <td>337.000000</td>\n",
       "      <td>246.000000</td>\n",
       "      <td>...</td>\n",
       "      <td>293.000000</td>\n",
       "      <td>876.000000</td>\n",
       "      <td>393.000000</td>\n",
       "      <td>141.000000</td>\n",
       "      <td>695.000000</td>\n",
       "      <td>1.000000</td>\n",
       "      <td>1.000000</td>\n",
       "      <td>17.000000</td>\n",
       "      <td>60.000000</td>\n",
       "      <td>0.000000</td>\n",
       "    </tr>\n",
       "    <tr>\n",
       "      <th>25%</th>\n",
       "      <td>14270.250000</td>\n",
       "      <td>227.000000</td>\n",
       "      <td>1398.000000</td>\n",
       "      <td>324.000000</td>\n",
       "      <td>219.250000</td>\n",
       "      <td>1289.000000</td>\n",
       "      <td>243.000000</td>\n",
       "      <td>194.000000</td>\n",
       "      <td>403.000000</td>\n",
       "      <td>335.000000</td>\n",
       "      <td>...</td>\n",
       "      <td>367.000000</td>\n",
       "      <td>1020.000000</td>\n",
       "      <td>756.000000</td>\n",
       "      <td>170.000000</td>\n",
       "      <td>819.000000</td>\n",
       "      <td>1.000000</td>\n",
       "      <td>1.000000</td>\n",
       "      <td>23.000000</td>\n",
       "      <td>68.000000</td>\n",
       "      <td>168.000000</td>\n",
       "    </tr>\n",
       "    <tr>\n",
       "      <th>50%</th>\n",
       "      <td>17236.500000</td>\n",
       "      <td>251.000000</td>\n",
       "      <td>1439.000000</td>\n",
       "      <td>335.000000</td>\n",
       "      <td>228.000000</td>\n",
       "      <td>1328.000000</td>\n",
       "      <td>252.000000</td>\n",
       "      <td>201.000000</td>\n",
       "      <td>415.000000</td>\n",
       "      <td>357.000000</td>\n",
       "      <td>...</td>\n",
       "      <td>386.000000</td>\n",
       "      <td>1055.000000</td>\n",
       "      <td>846.000000</td>\n",
       "      <td>176.000000</td>\n",
       "      <td>847.000000</td>\n",
       "      <td>1.000000</td>\n",
       "      <td>1.000000</td>\n",
       "      <td>28.000000</td>\n",
       "      <td>70.000000</td>\n",
       "      <td>185.000000</td>\n",
       "    </tr>\n",
       "    <tr>\n",
       "      <th>75%</th>\n",
       "      <td>27315.750000</td>\n",
       "      <td>279.000000</td>\n",
       "      <td>1481.000000</td>\n",
       "      <td>346.000000</td>\n",
       "      <td>239.000000</td>\n",
       "      <td>1367.000000</td>\n",
       "      <td>261.000000</td>\n",
       "      <td>208.000000</td>\n",
       "      <td>428.000000</td>\n",
       "      <td>380.000000</td>\n",
       "      <td>...</td>\n",
       "      <td>407.000000</td>\n",
       "      <td>1090.000000</td>\n",
       "      <td>944.000000</td>\n",
       "      <td>182.000000</td>\n",
       "      <td>875.000000</td>\n",
       "      <td>2.000000</td>\n",
       "      <td>2.000000</td>\n",
       "      <td>36.000000</td>\n",
       "      <td>72.000000</td>\n",
       "      <td>207.000000</td>\n",
       "    </tr>\n",
       "    <tr>\n",
       "      <th>max</th>\n",
       "      <td>29452.000000</td>\n",
       "      <td>451.000000</td>\n",
       "      <td>1683.000000</td>\n",
       "      <td>393.000000</td>\n",
       "      <td>293.000000</td>\n",
       "      <td>1553.000000</td>\n",
       "      <td>306.000000</td>\n",
       "      <td>245.000000</td>\n",
       "      <td>489.000000</td>\n",
       "      <td>490.000000</td>\n",
       "      <td>...</td>\n",
       "      <td>494.000000</td>\n",
       "      <td>1245.000000</td>\n",
       "      <td>1442.000000</td>\n",
       "      <td>216.000000</td>\n",
       "      <td>1009.000000</td>\n",
       "      <td>4251.000000</td>\n",
       "      <td>8.000000</td>\n",
       "      <td>58.000000</td>\n",
       "      <td>94.000000</td>\n",
       "      <td>321.000000</td>\n",
       "    </tr>\n",
       "  </tbody>\n",
       "</table>\n",
       "<p>8 rows × 99 columns</p>\n",
       "</div>"
      ],
      "text/plain": [
       "          subjectid  abdominalextensiondepthsitting  acromialheight  \\\n",
       "count   4082.000000                     4082.000000     4082.000000   \n",
       "mean   20003.370897                      254.650906     1440.736894   \n",
       "std     6568.435122                       37.327178       63.287242   \n",
       "min    10027.000000                      163.000000     1194.000000   \n",
       "25%    14270.250000                      227.000000     1398.000000   \n",
       "50%    17236.500000                      251.000000     1439.000000   \n",
       "75%    27315.750000                      279.000000     1481.000000   \n",
       "max    29452.000000                      451.000000     1683.000000   \n",
       "\n",
       "       acromionradialelength  anklecircumference  axillaheight  \\\n",
       "count            4082.000000         4082.000000   4082.000000   \n",
       "mean              335.244488          229.343949   1329.082068   \n",
       "std                17.482795           14.649102     59.516123   \n",
       "min               270.000000          156.000000   1106.000000   \n",
       "25%               324.000000          219.250000   1289.000000   \n",
       "50%               335.000000          228.000000   1328.000000   \n",
       "75%               346.000000          239.000000   1367.000000   \n",
       "max               393.000000          293.000000   1553.000000   \n",
       "\n",
       "       balloffootcircumference  balloffootlength  biacromialbreadth  \\\n",
       "count              4082.000000       4082.000000        4082.000000   \n",
       "mean                252.017148        200.935081         415.675649   \n",
       "std                  12.936131         10.470947          19.161654   \n",
       "min                 186.000000        156.000000         337.000000   \n",
       "25%                 243.000000        194.000000         403.000000   \n",
       "50%                 252.000000        201.000000         415.000000   \n",
       "75%                 261.000000        208.000000         428.000000   \n",
       "max                 306.000000        245.000000         489.000000   \n",
       "\n",
       "       bicepscircumferenceflexed  ...  waistfrontlengthsitting  \\\n",
       "count                4082.000000  ...              4082.000000   \n",
       "mean                  358.135718  ...               387.642822   \n",
       "std                    34.618093  ...                29.349007   \n",
       "min                   246.000000  ...               293.000000   \n",
       "25%                   335.000000  ...               367.000000   \n",
       "50%                   357.000000  ...               386.000000   \n",
       "75%                   380.000000  ...               407.000000   \n",
       "max                   490.000000  ...               494.000000   \n",
       "\n",
       "       waistheightomphalion     weightkg  wristcircumference  wristheight  \\\n",
       "count           4082.000000  4082.000000         4082.000000  4082.000000   \n",
       "mean            1056.485301   855.239588          175.916707   847.511514   \n",
       "std               52.154671   142.206992            8.955055    41.655628   \n",
       "min              876.000000   393.000000          141.000000   695.000000   \n",
       "25%             1020.000000   756.000000          170.000000   819.000000   \n",
       "50%             1055.000000   846.000000          176.000000   847.000000   \n",
       "75%             1090.000000   944.000000          182.000000   875.000000   \n",
       "max             1245.000000  1442.000000          216.000000  1009.000000   \n",
       "\n",
       "       SubjectNumericRace      DODRace          Age     Heightin    Weightlbs  \n",
       "count         4082.000000  4082.000000  4082.000000  4082.000000  4082.000000  \n",
       "mean             8.973542     1.534052    30.158991    70.035767   188.004900  \n",
       "std             83.012638     0.958815     8.810118     2.947419    29.941869  \n",
       "min              1.000000     1.000000    17.000000    60.000000     0.000000  \n",
       "25%              1.000000     1.000000    23.000000    68.000000   168.000000  \n",
       "50%              1.000000     1.000000    28.000000    70.000000   185.000000  \n",
       "75%              2.000000     2.000000    36.000000    72.000000   207.000000  \n",
       "max           4251.000000     8.000000    58.000000    94.000000   321.000000  \n",
       "\n",
       "[8 rows x 99 columns]"
      ]
     },
     "execution_count": 11,
     "metadata": {},
     "output_type": "execute_result"
    }
   ],
   "source": [
    "male.describe()"
   ]
  },
  {
   "cell_type": "markdown",
   "metadata": {},
   "source": [
    "\n",
    "In pandas these columns are called <em>Series</em>, and a dataframe is basically a list of Series objects with the same length (indexed in various ways for efficient access).\n",
    "\n",
    "Let's have a look at all the available measurements."
   ]
  },
  {
   "cell_type": "code",
   "execution_count": 12,
   "metadata": {},
   "outputs": [
    {
     "name": "stdout",
     "output_type": "stream",
     "text": [
      "0 SubjectId\n",
      "1 abdominalextensiondepthsitting\n",
      "2 acromialheight\n",
      "3 acromionradialelength\n",
      "4 anklecircumference\n",
      "5 axillaheight\n",
      "6 balloffootcircumference\n",
      "7 balloffootlength\n",
      "8 biacromialbreadth\n",
      "9 bicepscircumferenceflexed\n",
      "10 bicristalbreadth\n",
      "11 bideltoidbreadth\n",
      "12 bimalleolarbreadth\n",
      "13 bitragionchinarc\n",
      "14 bitragionsubmandibulararc\n",
      "15 bizygomaticbreadth\n",
      "16 buttockcircumference\n",
      "17 buttockdepth\n",
      "18 buttockheight\n",
      "19 buttockkneelength\n",
      "20 buttockpopliteallength\n",
      "21 calfcircumference\n",
      "22 cervicaleheight\n",
      "23 chestbreadth\n",
      "24 chestcircumference\n",
      "25 chestdepth\n",
      "26 chestheight\n",
      "27 crotchheight\n",
      "28 crotchlengthomphalion\n",
      "29 crotchlengthposterioromphalion\n",
      "30 earbreadth\n",
      "31 earlength\n",
      "32 earprotrusion\n",
      "33 elbowrestheight\n",
      "34 eyeheightsitting\n",
      "35 footbreadthhorizontal\n",
      "36 footlength\n",
      "37 forearmcenterofgriplength\n",
      "38 forearmcircumferenceflexed\n",
      "39 forearmforearmbreadth\n",
      "40 forearmhandlength\n",
      "41 functionalleglength\n",
      "42 handbreadth\n",
      "43 handcircumference\n",
      "44 handlength\n",
      "45 headbreadth\n",
      "46 headcircumference\n",
      "47 headlength\n",
      "48 heelanklecircumference\n",
      "49 heelbreadth\n",
      "50 hipbreadth\n",
      "51 hipbreadthsitting\n",
      "52 iliocristaleheight\n",
      "53 interpupillarybreadth\n",
      "54 interscyei\n",
      "55 interscyeii\n",
      "56 kneeheightmidpatella\n",
      "57 kneeheightsitting\n",
      "58 lateralfemoralepicondyleheight\n",
      "59 lateralmalleolusheight\n",
      "60 lowerthighcircumference\n",
      "61 mentonsellionlength\n",
      "62 neckcircumference\n",
      "63 neckcircumferencebase\n",
      "64 overheadfingertipreachsitting\n",
      "65 palmlength\n",
      "66 poplitealheight\n",
      "67 radialestylionlength\n",
      "68 shouldercircumference\n",
      "69 shoulderelbowlength\n",
      "70 shoulderlength\n",
      "71 sittingheight\n",
      "72 sleevelengthspinewrist\n",
      "73 sleeveoutseam\n",
      "74 span\n",
      "75 stature\n",
      "76 suprasternaleheight\n",
      "77 tenthribheight\n",
      "78 thighcircumference\n",
      "79 thighclearance\n",
      "80 thumbtipreach\n",
      "81 tibialheight\n",
      "82 tragiontopofhead\n",
      "83 trochanterionheight\n",
      "84 verticaltrunkcircumferenceusa\n",
      "85 waistbacklength\n",
      "86 waistbreadth\n",
      "87 waistcircumference\n",
      "88 waistdepth\n",
      "89 waistfrontlengthsitting\n",
      "90 waistheightomphalion\n",
      "91 weightkg\n",
      "92 wristcircumference\n",
      "93 wristheight\n",
      "94 Gender\n",
      "95 Date\n",
      "96 Installation\n",
      "97 Component\n",
      "98 Branch\n",
      "99 PrimaryMOS\n",
      "100 SubjectsBirthLocation\n",
      "101 SubjectNumericRace\n",
      "102 Ethnicity\n",
      "103 DODRace\n",
      "104 Age\n",
      "105 Heightin\n",
      "106 Weightlbs\n",
      "107 WritingPreference\n"
     ]
    }
   ],
   "source": [
    "for i, col in enumerate(female.columns):\n",
    "    print(i, col)"
   ]
  },
  {
   "cell_type": "markdown",
   "metadata": {},
   "source": [
    "Each column name with a lowercase letter represents a physical measurement. Some of these are quite technical (like <em>bizygomaticbreadth</em>). The dataset comes with a very helpful document that shows what each measurement means (and how it should be performed). It's [included with the worksheets](./ansur/Hotzman_2011_ANSURIII_Measurements_a548497.pdf). Scroll down to section 6.4 for the description of the measurements."
   ]
  },
  {
   "cell_type": "markdown",
   "metadata": {},
   "source": [
    "Once the dataframe is loaded, you can refer to the columns by name as python objects. For instance:"
   ]
  },
  {
   "cell_type": "code",
   "execution_count": 13,
   "metadata": {},
   "outputs": [
    {
     "data": {
      "text/plain": [
       "0       1776\n",
       "1       1702\n",
       "2       1735\n",
       "3       1655\n",
       "4       1914\n",
       "        ... \n",
       "4077    1688\n",
       "4078    1765\n",
       "4079    1690\n",
       "4080    1718\n",
       "4081    1828\n",
       "Name: stature, Length: 4082, dtype: int64"
      ]
     },
     "execution_count": 13,
     "metadata": {},
     "output_type": "execute_result"
    }
   ],
   "source": [
    "male.stature"
   ]
  },
  {
   "cell_type": "markdown",
   "metadata": {},
   "source": [
    "Jupyter notebooks even gives you dynamic autocomplete. Try putting your cursor at the end of the next line and pressing the ```TAB``` button on your keyboard (it may take a second)."
   ]
  },
  {
   "cell_type": "code",
   "execution_count": 26,
   "metadata": {},
   "outputs": [
    {
     "data": {
      "text/plain": [
       "<bound method NDFrame.abs of       SubjectId  abdominalextensiondepthsitting  acromialheight  \\\n",
       "0         10037                             231            1282   \n",
       "1         10038                             194            1379   \n",
       "2         10042                             183            1369   \n",
       "3         10043                             261            1356   \n",
       "4         10051                             309            1303   \n",
       "...         ...                             ...             ...   \n",
       "1981      29501                             285            1392   \n",
       "1982      29502                             262            1324   \n",
       "1983      29503                             260            1334   \n",
       "1984      29511                             205            1293   \n",
       "1985     920103                             238            1346   \n",
       "\n",
       "      acromionradialelength  anklecircumference  axillaheight  \\\n",
       "0                       301                 204          1180   \n",
       "1                       320                 207          1292   \n",
       "2                       329                 233          1271   \n",
       "3                       306                 214          1250   \n",
       "4                       308                 214          1210   \n",
       "...                     ...                 ...           ...   \n",
       "1981                    335                 223          1297   \n",
       "1982                    301                 202          1204   \n",
       "1983                    318                 213          1259   \n",
       "1984                    302                 199          1207   \n",
       "1985                    308                 210          1256   \n",
       "\n",
       "      balloffootcircumference  balloffootlength  biacromialbreadth  \\\n",
       "0                         222               177                373   \n",
       "1                         225               178                372   \n",
       "2                         237               196                397   \n",
       "3                         240               188                384   \n",
       "4                         217               182                378   \n",
       "...                       ...               ...                ...   \n",
       "1981                      252               196                368   \n",
       "1982                      236               181                378   \n",
       "1983                      234               183                363   \n",
       "1984                      213               163                376   \n",
       "1985                      236               188                361   \n",
       "\n",
       "      bicepscircumferenceflexed  ...                  Branch  PrimaryMOS  \\\n",
       "0                           315  ...          Combat Support         92Y   \n",
       "1                           272  ...  Combat Service Support         25U   \n",
       "2                           300  ...  Combat Service Support         35D   \n",
       "3                           364  ...  Combat Service Support         25U   \n",
       "4                           320  ...             Combat Arms         42A   \n",
       "...                         ...  ...                     ...         ...   \n",
       "1981                        299  ...          Combat Support         42A   \n",
       "1982                        294  ...          Combat Support         25U   \n",
       "1983                        332  ...          Combat Support         42A   \n",
       "1984                        276  ...          Combat Support         92Y   \n",
       "1985                        285  ...          Combat Support         92F   \n",
       "\n",
       "      SubjectsBirthLocation  SubjectNumericRace           Ethnicity  DODRace  \\\n",
       "0                   Germany                   2                 NaN        2   \n",
       "1                California                   3             Mexican        3   \n",
       "2                     Texas                   1                 NaN        1   \n",
       "3      District of Columbia                   8  Caribbean Islander        2   \n",
       "4                     Texas                   1                 NaN        1   \n",
       "...                     ...                 ...                 ...      ...   \n",
       "1981                  Texas                   3             Mexican        3   \n",
       "1982                  Texas                   3             Mexican        3   \n",
       "1983                  Texas                   2                 NaN        2   \n",
       "1984                  Texas                   3             Mexican        3   \n",
       "1985                  Texas                   3             Mexican        3   \n",
       "\n",
       "      Age  Heightin  Weightlbs  WritingPreference  \n",
       "0      26        61        142         Right hand  \n",
       "1      21        64        120         Right hand  \n",
       "2      23        68        147         Right hand  \n",
       "3      22        66        175         Right hand  \n",
       "4      45        63        195         Right hand  \n",
       "...   ...       ...        ...                ...  \n",
       "1981   51        67        180         Right hand  \n",
       "1982   40        63        150         Right hand  \n",
       "1983   40        66        168         Right hand  \n",
       "1984   31        63        133         Right hand  \n",
       "1985   27        66        132         Right hand  \n",
       "\n",
       "[1986 rows x 108 columns]>"
      ]
     },
     "execution_count": 26,
     "metadata": {},
     "output_type": "execute_result"
    }
   ],
   "source": [
    "female.abs"
   ]
  },
  {
   "cell_type": "markdown",
   "metadata": {},
   "source": [
    "We can now easily do scatterplots of different measurements. Let's plot the ```stature``` (height) against the ```span``` (distance between outstretched arms)."
   ]
  },
  {
   "cell_type": "code",
   "execution_count": 27,
   "metadata": {},
   "outputs": [
    {
     "data": {
      "image/png": "[encoded data removed]",
      "text/plain": [
       "<Figure size 432x288 with 1 Axes>"
      ]
     },
     "metadata": {
      "needs_background": "light"
     },
     "output_type": "display_data"
    }
   ],
   "source": [
    "plt.scatter(female.stature, female.span, color='red')\n",
    "plt.scatter(male.stature, male.span, color='blue');"
   ]
  },
  {
   "cell_type": "markdown",
   "metadata": {},
   "source": [
    "Even if we make the points transparent (```alpha=0.1```) and small (```s=1```), it's quite a dense cloud. We can easily select a small subset by [slicing](https://www.pythoncentral.io/how-to-slice-listsarrays-and-tuples-in-python/):"
   ]
  },
  {
   "cell_type": "code",
   "execution_count": 28,
   "metadata": {},
   "outputs": [
    {
     "data": {
      "text/html": [
       "<div>\n",
       "<style scoped>\n",
       "    .dataframe tbody tr th:only-of-type {\n",
       "        vertical-align: middle;\n",
       "    }\n",
       "\n",
       "    .dataframe tbody tr th {\n",
       "        vertical-align: top;\n",
       "    }\n",
       "\n",
       "    .dataframe thead th {\n",
       "        text-align: right;\n",
       "    }\n",
       "</style>\n",
       "<table border=\"1\" class=\"dataframe\">\n",
       "  <thead>\n",
       "    <tr style=\"text-align: right;\">\n",
       "      <th></th>\n",
       "      <th>subjectid</th>\n",
       "      <th>abdominalextensiondepthsitting</th>\n",
       "      <th>acromialheight</th>\n",
       "      <th>acromionradialelength</th>\n",
       "      <th>anklecircumference</th>\n",
       "      <th>axillaheight</th>\n",
       "      <th>balloffootcircumference</th>\n",
       "      <th>balloffootlength</th>\n",
       "      <th>biacromialbreadth</th>\n",
       "      <th>bicepscircumferenceflexed</th>\n",
       "      <th>...</th>\n",
       "      <th>Branch</th>\n",
       "      <th>PrimaryMOS</th>\n",
       "      <th>SubjectsBirthLocation</th>\n",
       "      <th>SubjectNumericRace</th>\n",
       "      <th>Ethnicity</th>\n",
       "      <th>DODRace</th>\n",
       "      <th>Age</th>\n",
       "      <th>Heightin</th>\n",
       "      <th>Weightlbs</th>\n",
       "      <th>WritingPreference</th>\n",
       "    </tr>\n",
       "  </thead>\n",
       "  <tbody>\n",
       "    <tr>\n",
       "      <th>0</th>\n",
       "      <td>10027</td>\n",
       "      <td>266</td>\n",
       "      <td>1467</td>\n",
       "      <td>337</td>\n",
       "      <td>222</td>\n",
       "      <td>1347</td>\n",
       "      <td>253</td>\n",
       "      <td>202</td>\n",
       "      <td>401</td>\n",
       "      <td>369</td>\n",
       "      <td>...</td>\n",
       "      <td>Combat Arms</td>\n",
       "      <td>19D</td>\n",
       "      <td>North Dakota</td>\n",
       "      <td>1</td>\n",
       "      <td>NaN</td>\n",
       "      <td>1</td>\n",
       "      <td>41</td>\n",
       "      <td>71</td>\n",
       "      <td>180</td>\n",
       "      <td>Right hand</td>\n",
       "    </tr>\n",
       "    <tr>\n",
       "      <th>1</th>\n",
       "      <td>10032</td>\n",
       "      <td>233</td>\n",
       "      <td>1395</td>\n",
       "      <td>326</td>\n",
       "      <td>220</td>\n",
       "      <td>1293</td>\n",
       "      <td>245</td>\n",
       "      <td>193</td>\n",
       "      <td>394</td>\n",
       "      <td>338</td>\n",
       "      <td>...</td>\n",
       "      <td>Combat Support</td>\n",
       "      <td>68W</td>\n",
       "      <td>New York</td>\n",
       "      <td>1</td>\n",
       "      <td>NaN</td>\n",
       "      <td>1</td>\n",
       "      <td>35</td>\n",
       "      <td>68</td>\n",
       "      <td>160</td>\n",
       "      <td>Left hand</td>\n",
       "    </tr>\n",
       "    <tr>\n",
       "      <th>2</th>\n",
       "      <td>10033</td>\n",
       "      <td>287</td>\n",
       "      <td>1430</td>\n",
       "      <td>341</td>\n",
       "      <td>230</td>\n",
       "      <td>1327</td>\n",
       "      <td>256</td>\n",
       "      <td>196</td>\n",
       "      <td>427</td>\n",
       "      <td>408</td>\n",
       "      <td>...</td>\n",
       "      <td>Combat Support</td>\n",
       "      <td>68W</td>\n",
       "      <td>New York</td>\n",
       "      <td>2</td>\n",
       "      <td>NaN</td>\n",
       "      <td>2</td>\n",
       "      <td>42</td>\n",
       "      <td>68</td>\n",
       "      <td>205</td>\n",
       "      <td>Left hand</td>\n",
       "    </tr>\n",
       "  </tbody>\n",
       "</table>\n",
       "<p>3 rows × 108 columns</p>\n",
       "</div>"
      ],
      "text/plain": [
       "   subjectid  abdominalextensiondepthsitting  acromialheight  \\\n",
       "0      10027                             266            1467   \n",
       "1      10032                             233            1395   \n",
       "2      10033                             287            1430   \n",
       "\n",
       "   acromionradialelength  anklecircumference  axillaheight  \\\n",
       "0                    337                 222          1347   \n",
       "1                    326                 220          1293   \n",
       "2                    341                 230          1327   \n",
       "\n",
       "   balloffootcircumference  balloffootlength  biacromialbreadth  \\\n",
       "0                      253               202                401   \n",
       "1                      245               193                394   \n",
       "2                      256               196                427   \n",
       "\n",
       "   bicepscircumferenceflexed  ...          Branch  PrimaryMOS  \\\n",
       "0                        369  ...     Combat Arms         19D   \n",
       "1                        338  ...  Combat Support         68W   \n",
       "2                        408  ...  Combat Support         68W   \n",
       "\n",
       "   SubjectsBirthLocation  SubjectNumericRace  Ethnicity  DODRace  Age  \\\n",
       "0           North Dakota                   1        NaN        1   41   \n",
       "1               New York                   1        NaN        1   35   \n",
       "2               New York                   2        NaN        2   42   \n",
       "\n",
       "   Heightin  Weightlbs  WritingPreference  \n",
       "0        71        180         Right hand  \n",
       "1        68        160          Left hand  \n",
       "2        68        205          Left hand  \n",
       "\n",
       "[3 rows x 108 columns]"
      ]
     },
     "execution_count": 28,
     "metadata": {},
     "output_type": "execute_result"
    }
   ],
   "source": [
    "male[:3]"
   ]
  },
  {
   "cell_type": "markdown",
   "metadata": {},
   "source": [
    "Note that slicing like this only works over the rows. We can't do ```male[:3, 5:12]```, like we could in numpy.\n",
    "\n",
    "For now, we know enough to plot a small subset of the data."
   ]
  },
  {
   "cell_type": "code",
   "execution_count": 29,
   "metadata": {},
   "outputs": [
    {
     "data": {
      "image/png": "[encoded data removed]",
      "text/plain": [
       "<Figure size 432x288 with 1 Axes>"
      ]
     },
     "metadata": {
      "needs_background": "light"
     },
     "output_type": "display_data"
    }
   ],
   "source": [
    "female_sub = female[:50]\n",
    "male_sub = male[:50]\n",
    "\n",
    "plt.scatter(female_sub.stature, female_sub.span, color='red')\n",
    "plt.scatter(male_sub.stature, male_sub.span, color='blue');"
   ]
  },
  {
   "cell_type": "markdown",
   "metadata": {},
   "source": [
    "To select a set of columns, the best method is to pass a list of strings containing column names. The result is another dataframe."
   ]
  },
  {
   "cell_type": "code",
   "execution_count": 30,
   "metadata": {},
   "outputs": [
    {
     "data": {
      "text/html": [
       "<div>\n",
       "<style scoped>\n",
       "    .dataframe tbody tr th:only-of-type {\n",
       "        vertical-align: middle;\n",
       "    }\n",
       "\n",
       "    .dataframe tbody tr th {\n",
       "        vertical-align: top;\n",
       "    }\n",
       "\n",
       "    .dataframe thead th {\n",
       "        text-align: right;\n",
       "    }\n",
       "</style>\n",
       "<table border=\"1\" class=\"dataframe\">\n",
       "  <thead>\n",
       "    <tr style=\"text-align: right;\">\n",
       "      <th></th>\n",
       "      <th>bicepscircumferenceflexed</th>\n",
       "      <th>Age</th>\n",
       "    </tr>\n",
       "  </thead>\n",
       "  <tbody>\n",
       "    <tr>\n",
       "      <th>0</th>\n",
       "      <td>369</td>\n",
       "      <td>41</td>\n",
       "    </tr>\n",
       "    <tr>\n",
       "      <th>1</th>\n",
       "      <td>338</td>\n",
       "      <td>35</td>\n",
       "    </tr>\n",
       "    <tr>\n",
       "      <th>2</th>\n",
       "      <td>408</td>\n",
       "      <td>42</td>\n",
       "    </tr>\n",
       "    <tr>\n",
       "      <th>3</th>\n",
       "      <td>359</td>\n",
       "      <td>31</td>\n",
       "    </tr>\n",
       "    <tr>\n",
       "      <th>4</th>\n",
       "      <td>356</td>\n",
       "      <td>21</td>\n",
       "    </tr>\n",
       "    <tr>\n",
       "      <th>...</th>\n",
       "      <td>...</td>\n",
       "      <td>...</td>\n",
       "    </tr>\n",
       "    <tr>\n",
       "      <th>4077</th>\n",
       "      <td>318</td>\n",
       "      <td>22</td>\n",
       "    </tr>\n",
       "    <tr>\n",
       "      <th>4078</th>\n",
       "      <td>374</td>\n",
       "      <td>22</td>\n",
       "    </tr>\n",
       "    <tr>\n",
       "      <th>4079</th>\n",
       "      <td>367</td>\n",
       "      <td>23</td>\n",
       "    </tr>\n",
       "    <tr>\n",
       "      <th>4080</th>\n",
       "      <td>365</td>\n",
       "      <td>22</td>\n",
       "    </tr>\n",
       "    <tr>\n",
       "      <th>4081</th>\n",
       "      <td>379</td>\n",
       "      <td>38</td>\n",
       "    </tr>\n",
       "  </tbody>\n",
       "</table>\n",
       "<p>4082 rows × 2 columns</p>\n",
       "</div>"
      ],
      "text/plain": [
       "      bicepscircumferenceflexed  Age\n",
       "0                           369   41\n",
       "1                           338   35\n",
       "2                           408   42\n",
       "3                           359   31\n",
       "4                           356   21\n",
       "...                         ...  ...\n",
       "4077                        318   22\n",
       "4078                        374   22\n",
       "4079                        367   23\n",
       "4080                        365   22\n",
       "4081                        379   38\n",
       "\n",
       "[4082 rows x 2 columns]"
      ]
     },
     "execution_count": 30,
     "metadata": {},
     "output_type": "execute_result"
    }
   ],
   "source": [
    "male[['bicepscircumferenceflexed', 'Age']]"
   ]
  },
  {
   "cell_type": "markdown",
   "metadata": {},
   "source": [
    "### Simple arithmetic\n",
    "\n",
    "Like numpy, pandas objects overload basic arithmetic operations. For instance, the units in this dataset are in millimeters, which is a little hard to read. To convert them to meters, we can simply multiply by 0.001.\n"
   ]
  },
  {
   "cell_type": "code",
   "execution_count": 31,
   "metadata": {},
   "outputs": [
    {
     "data": {
      "image/png": "[encoded data removed]",
      "text/plain": [
       "<Figure size 432x288 with 1 Axes>"
      ]
     },
     "metadata": {
      "needs_background": "light"
     },
     "output_type": "display_data"
    }
   ],
   "source": [
    "stat = female.stature * 0.001\n",
    "span = female.span * 0.001\n",
    "\n",
    "plt.scatter(stat, span);\n",
    "\n",
    "plt.xlabel('height (m)')\n",
    "plt.ylabel('span (m)');"
   ]
  },
  {
   "cell_type": "markdown",
   "metadata": {},
   "source": [
    "### Descriptive statistics\n",
    "\n",
    "For most descriptive statistics, pandas provides member functions:"
   ]
  },
  {
   "cell_type": "code",
   "execution_count": 32,
   "metadata": {},
   "outputs": [
    {
     "name": "stdout",
     "output_type": "stream",
     "text": [
      "mean            1628.4733131923465\n",
      "std dev.        64.19951224968793\n",
      "median          1626.0\n",
      "standard error  1.4405956746546726\n"
     ]
    }
   ],
   "source": [
    "print('mean           ', female.stature.mean())\n",
    "print('std dev.       ', female.stature.std())\n",
    "print('median         ', female.stature.median())\n",
    "print('standard error ', female.stature.sem())"
   ]
  },
  {
   "cell_type": "markdown",
   "metadata": {},
   "source": [
    "### Concatenating and sampling\n",
    "\n",
    "To perform the classification task from the first lecture (predicting gender from physical measurements), we want the male and female data in a single dataframe. To accomplish this, we can concatenate the two dataframes"
   ]
  },
  {
   "cell_type": "code",
   "execution_count": 33,
   "metadata": {},
   "outputs": [],
   "source": [
    "people = pd.concat([male, female])"
   ]
  },
  {
   "cell_type": "markdown",
   "metadata": {},
   "source": [
    "This gives us a dataset of all the male measurements first, and then all the female measurements. For many reasons, it's helpful to shuffle these, so that the order is random. The simplest way to do this is pandas is to _sample_ a new dataframe (without replacement) of the same size:"
   ]
  },
  {
   "cell_type": "code",
   "execution_count": 34,
   "metadata": {},
   "outputs": [
    {
     "data": {
      "text/plain": [
       "449     Male\n",
       "1866    Male\n",
       "1554    Male\n",
       "1511    Male\n",
       "738     Male\n",
       "Name: Gender, dtype: object"
      ]
     },
     "execution_count": 34,
     "metadata": {},
     "output_type": "execute_result"
    }
   ],
   "source": [
    "people = people.sample(frac=1)\n",
    "people[:5].Gender"
   ]
  },
  {
   "cell_type": "markdown",
   "metadata": {},
   "source": [
    "Note that the row indices from the original dataframe are retained and shuffled as well. For our purposes this doesn't matter."
   ]
  },
  {
   "cell_type": "markdown",
   "metadata": {},
   "source": [
    "## Performing Classification\n",
    "\n",
    "### Categories and codes\n",
    "\n",
    "To perform classification on this dataset, we need to convert the target value from strings to categorical data.\n",
    "\n",
    "Since gender is a sensitive attribute and we're just looking for any example, let's instead try to predict handedness. This is indicated by the attribute ```WritingPreference```.\n",
    "\n",
    "Right now, pandas thinks the column can have any string value: when we convert it, it checks the existing values (```Left Hand```, ```Right hand``` and ```Either hand (No preference)```) and limits the column values to those two options (changing the datatype)."
   ]
  },
  {
   "cell_type": "code",
   "execution_count": 35,
   "metadata": {},
   "outputs": [
    {
     "name": "stdout",
     "output_type": "stream",
     "text": [
      "category\n",
      "Index(['Either hand (No preference)', 'Left hand', 'Right hand'], dtype='object')\n"
     ]
    }
   ],
   "source": [
    "wp_cat = people.WritingPreference.astype('category')\n",
    "print(wp_cat.dtype)\n",
    "print(wp_cat.cat.categories)"
   ]
  },
  {
   "cell_type": "markdown",
   "metadata": {},
   "source": [
    "Note that we haven't changed the original data. To insert the categorized column back into the original dataframe, we just re-assign it."
   ]
  },
  {
   "cell_type": "code",
   "execution_count": 36,
   "metadata": {},
   "outputs": [],
   "source": [
    "people.WritingPreference = people.WritingPreference.astype('category')"
   ]
  },
  {
   "cell_type": "markdown",
   "metadata": {},
   "source": [
    "We can quickly check the class balance using the ```value_counts()``` function. (For a more fancy display, try the hist() function)."
   ]
  },
  {
   "cell_type": "code",
   "execution_count": 37,
   "metadata": {},
   "outputs": [
    {
     "data": {
      "text/plain": [
       "Right hand                     0.881674\n",
       "Left hand                      0.108108\n",
       "Either hand (No preference)    0.010218\n",
       "Name: WritingPreference, dtype: float64"
      ]
     },
     "execution_count": 37,
     "metadata": {},
     "output_type": "execute_result"
    }
   ],
   "source": [
    "people.WritingPreference.value_counts(normalize=True) \n",
    "\n",
    "# normalize=False will give you absolute counts"
   ]
  },
  {
   "cell_type": "markdown",
   "metadata": {},
   "source": [
    "What does this tell us about the performance of the majority class baseline?"
   ]
  },
  {
   "cell_type": "markdown",
   "metadata": {},
   "source": [
    "For many tasks (including classification with sklearn), we need integers instead of categorical values. Pandas actually uses integer codes behind the scenes for its categories and it's a simple matter to get a column of integers from a column of categorical data:"
   ]
  },
  {
   "cell_type": "code",
   "execution_count": 38,
   "metadata": {},
   "outputs": [
    {
     "data": {
      "text/plain": [
       "449     2\n",
       "1866    2\n",
       "1554    2\n",
       "1511    2\n",
       "738     1\n",
       "       ..\n",
       "203     1\n",
       "1955    2\n",
       "659     2\n",
       "98      1\n",
       "2223    2\n",
       "Length: 6068, dtype: int8"
      ]
     },
     "execution_count": 38,
     "metadata": {},
     "output_type": "execute_result"
    }
   ],
   "source": [
    "people.WritingPreference.cat.codes"
   ]
  },
  {
   "cell_type": "markdown",
   "metadata": {},
   "source": [
    "This allows us, for instance, to scatterplot the data using the categories for color."
   ]
  },
  {
   "cell_type": "markdown",
   "metadata": {},
   "source": [
    "You can add a cmap argument like ```cmap='copper'``` to change the colors. A [colormap](https://matplotlib.org/examples/color/colormaps_reference.html) maps a range of numeric values to a range of colors. I our case, we only have the values 0 and 1, so those get mapped to the extremes of the chosen colormap."
   ]
  },
  {
   "cell_type": "code",
   "execution_count": 39,
   "metadata": {},
   "outputs": [
    {
     "data": {
      "image/png": "[encoded data removed]",
      "text/plain": [
       "<Figure size 432x288 with 1 Axes>"
      ]
     },
     "metadata": {
      "needs_background": "light"
     },
     "output_type": "display_data"
    }
   ],
   "source": [
    "sub = people[:500]\n",
    "plt.scatter(sub.stature, sub.span, c=sub.WritingPreference.cat.codes, alpha=0.3);"
   ]
  },
  {
   "cell_type": "markdown",
   "metadata": {},
   "source": [
    "Clearly, stature and span are not very predictive. Perhaps the measurements of the right arm will tell us a little more??"
   ]
  },
  {
   "cell_type": "code",
   "execution_count": 40,
   "metadata": {},
   "outputs": [
    {
     "data": {
      "image/png": "[encoded data removed]",
      "text/plain": [
       "<Figure size 432x288 with 1 Axes>"
      ]
     },
     "metadata": {
      "needs_background": "light"
     },
     "output_type": "display_data"
    }
   ],
   "source": [
    "sub = people[:500]\n",
    "plt.scatter(sub.bicepscircumferenceflexed, sub.bideltoidbreadth, c=sub.WritingPreference.cat.codes, alpha=0.3);"
   ]
  },
  {
   "cell_type": "markdown",
   "metadata": {},
   "source": [
    "Clearly, this is a difficult problem. It may even be impossible from the features we have. Let's try anyway."
   ]
  },
  {
   "cell_type": "markdown",
   "metadata": {},
   "source": [
    "### Classification\n",
    "\n",
    "Running a classifier looks much the same as it did with a numpy array."
   ]
  },
  {
   "cell_type": "code",
   "execution_count": 41,
   "metadata": {},
   "outputs": [
    {
     "data": {
      "text/plain": [
       "0.8853965183752418"
      ]
     },
     "execution_count": 41,
     "metadata": {},
     "output_type": "execute_result"
    }
   ],
   "source": [
    "from sklearn.svm import SVC\n",
    "from sklearn.metrics import accuracy_score\n",
    "\n",
    "train = people[:4000]\n",
    "test  = people[4000:]\n",
    "# NB: We can split like this because we know the data is shuffled\n",
    "\n",
    "cls = SVC()\n",
    "cls.fit(train[['stature','span']], train.WritingPreference)\n",
    "\n",
    "accuracy_score(cls.predict(test[['stature', 'span']]), test.WritingPreference)"
   ]
  },
  {
   "cell_type": "markdown",
   "metadata": {},
   "source": [
    "Very slightly higher than the majority class (though your results may differ). Can we conclude that handedness can be predicted from height and span?\n",
    "\n",
    "Let's see what we get for a kNN classifier on all measurements."
   ]
  },
  {
   "cell_type": "code",
   "execution_count": 42,
   "metadata": {},
   "outputs": [
    {
     "data": {
      "text/plain": [
       "0.7998065764023211"
      ]
     },
     "execution_count": 42,
     "metadata": {},
     "output_type": "execute_result"
    }
   ],
   "source": [
    "from sklearn.neighbors import KNeighborsClassifier as KNN\n",
    "from sklearn.metrics import accuracy_score\n",
    "\n",
    "train = people[:4000]\n",
    "test  = people[4000:]\n",
    "# NB: We can split like this because we know the data is shuffled\n",
    "\n",
    "traina, testa = train.iloc[:, 1:94], test.iloc[:, 1:94] # select all measurement columns\n",
    "\n",
    "cls = KNN(n_neighbors=1)\n",
    "cls.fit(traina, train.WritingPreference)\n",
    "\n",
    "accuracy_score(cls.predict(testa), test.WritingPreference)"
   ]
  },
  {
   "cell_type": "markdown",
   "metadata": {},
   "source": [
    "Lower than the majority class. Note that with the number of neigbhors at 1, kNN is likely to overfit. See what happens if you increase the number of neighbors.\n",
    "\n",
    "At this point, we're in danger of multiple testing, so we should make a proper train/validation/test split. Can you see how you would do that?"
   ]
  },
  {
   "cell_type": "markdown",
   "metadata": {},
   "source": [
    "As you can see, sklearn integrates beautifully with pandas, making our training and testing code even simpler. Not all libraries integrate this well with pandas; mlxtend, for instance, only inderstands numpy data.\n",
    "\n",
    "Happily, pandas data contains numpy arrays in the background, and we can simply ask for those by retrieving the ```.values``` attribute."
   ]
  },
  {
   "cell_type": "code",
   "execution_count": 43,
   "metadata": {},
   "outputs": [
    {
     "data": {
      "image/png": "[encoded data removed]",
      "text/plain": [
       "<Figure size 432x288 with 1 Axes>"
      ]
     },
     "metadata": {
      "needs_background": "light"
     },
     "output_type": "display_data"
    }
   ],
   "source": [
    "from mlxtend.plotting import plot_decision_regions\n",
    "\n",
    "# Plot the decision boundary with the first 50 points in the test set\n",
    "numpy_x = train[['stature','span']].values\n",
    "numpy_y = train.WritingPreference.cat.codes.values\n",
    "\n",
    "# This is necessary if pandas read the CSV files as integers\n",
    "# (seems to depend on version/OS)\n",
    "numpy_x = numpy_x.astype(float)\n",
    "\n",
    "# Rebuild the classifier \n",
    "# (a classifier trained on pandas data doesn't interoperate well with pure numpy data)\n",
    "tree = KNN(n_neighbors=2)\n",
    "tree.fit(numpy_x, numpy_y)\n",
    "\n",
    "plot_decision_regions(numpy_x[:25, :], numpy_y[:25], clf=tree);\n",
    "\n"
   ]
  },
  {
   "cell_type": "markdown",
   "metadata": {},
   "source": [
    "## Final comments\n",
    "\n",
    "As usual, there is a lot more to learn. A good place to start is the 10-minute quicktstart guide to pandas:\n",
    "https://pandas.pydata.org/pandas-docs/stable/10min.html\n",
    "\n",
    "One very useful feature we didn't mention is _grouping_ (which will be familiar if you've done a little SQL):\n",
    "https://pandas.pydata.org/pandas-docs/stable/groupby.html\n",
    "\n",
    "Here's a list of 12 random tips, which gives you a good idea of how far pandas can go:\n",
    "https://www.analyticsvidhya.com/blog/2016/01/12-pandas-techniques-python-data-manipulation/\n",
    "\n",
    "Next week, deep learning with _Keras_."
   ]
  },
  {
   "cell_type": "code",
   "execution_count": null,
   "metadata": {},
   "outputs": [],
   "source": []
  }
 ],
 "metadata": {
  "kernelspec": {
   "display_name": "Python 3 (ipykernel)",
   "language": "python",
   "name": "python3"
  },
  "language_info": {
   "codemirror_mode": {
    "name": "ipython",
    "version": 3
   },
   "file_extension": ".py",
   "mimetype": "text/x-python",
   "name": "python",
   "nbconvert_exporter": "python",
   "pygments_lexer": "ipython3",
   "version": "3.9.6"
  }
 },
 "nbformat": 4,
 "nbformat_minor": 1
}