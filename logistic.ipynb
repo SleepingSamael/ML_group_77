{
 "cells": [
  {
   "cell_type": "code",
   "execution_count": 1,
   "id": "ab983ead",
   "metadata": {},
   "outputs": [],
   "source": [
    "import pandas as pd\n",
    "from sklearn.linear_model import LogisticRegression\n",
    "from sklearn.metrics import confusion_matrix, accuracy_score, recall_score, precision_score, plot_roc_curve"
   ]
  },
  {
   "cell_type": "code",
   "execution_count": 2,
   "id": "ac61f19c",
   "metadata": {},
   "outputs": [],
   "source": [
    "train = pd.read_csv(\"training_data(no_pre-diabetes).csv\")\n",
    "test = pd.read_csv(\"testing_data(no_pre-diabetes).csv\")"
   ]
  },
  {
   "cell_type": "code",
   "execution_count": 3,
   "id": "1e609d9b",
   "metadata": {},
   "outputs": [],
   "source": [
    "train.loc[train['Diabetes_012'] == 2, \"Diabetes_012\"] = 1\n",
    "test.loc[test['Diabetes_012'] == 2, \"Diabetes_012\"] = 1"
   ]
  },
  {
   "cell_type": "code",
   "execution_count": 4,
   "id": "094387e5",
   "metadata": {},
   "outputs": [],
   "source": [
    "train_X = train.iloc[:, 1:].values\n",
    "train_y = train.iloc[:, 0].values\n",
    "test_X = test.iloc[:, 1:].values\n",
    "test_y = test.iloc[:, 0].values"
   ]
  },
  {
   "cell_type": "code",
   "execution_count": 5,
   "id": "53bdbaf4",
   "metadata": {},
   "outputs": [
    {
     "name": "stderr",
     "output_type": "stream",
     "text": [
      "/opt/homebrew/Caskroom/miniforge/base/lib/python3.9/site-packages/sklearn/linear_model/_logistic.py:814: ConvergenceWarning: lbfgs failed to converge (status=1):\n",
      "STOP: TOTAL NO. of ITERATIONS REACHED LIMIT.\n",
      "\n",
      "Increase the number of iterations (max_iter) or scale the data as shown in:\n",
      "    https://scikit-learn.org/stable/modules/preprocessing.html\n",
      "Please also refer to the documentation for alternative solver options:\n",
      "    https://scikit-learn.org/stable/modules/linear_model.html#logistic-regression\n",
      "  n_iter_i = _check_optimize_result(\n"
     ]
    }
   ],
   "source": [
    "clf = LogisticRegression().fit(train_X, train_y)"
   ]
  },
  {
   "cell_type": "code",
   "execution_count": 6,
   "id": "d54b3f4d",
   "metadata": {},
   "outputs": [],
   "source": [
    "pred_y = clf.predict(test_X)"
   ]
  },
  {
   "cell_type": "code",
   "execution_count": 7,
   "id": "11b79a04",
   "metadata": {},
   "outputs": [
    {
     "data": {
      "text/plain": [
       "array([[68937,  1585],\n",
       "       [ 9814,  1851]])"
      ]
     },
     "execution_count": 7,
     "metadata": {},
     "output_type": "execute_result"
    }
   ],
   "source": [
    "confusion_matrix(test_y, pred_y)"
   ]
  },
  {
   "cell_type": "markdown",
   "id": "e8a76c91",
   "metadata": {},
   "source": [
    "Accuracy"
   ]
  },
  {
   "cell_type": "code",
   "execution_count": 8,
   "id": "a352e077",
   "metadata": {},
   "outputs": [
    {
     "data": {
      "text/plain": [
       "0.8613040991884361"
      ]
     },
     "execution_count": 8,
     "metadata": {},
     "output_type": "execute_result"
    }
   ],
   "source": [
    "accuracy_score(test_y, pred_y)"
   ]
  },
  {
   "cell_type": "code",
   "execution_count": 9,
   "id": "2ea0b66d",
   "metadata": {},
   "outputs": [
    {
     "data": {
      "text/plain": [
       "0.8613040991884361"
      ]
     },
     "execution_count": 9,
     "metadata": {},
     "output_type": "execute_result"
    }
   ],
   "source": [
    "(68937+1851)/(68937+1585+9814+1851)"
   ]
  },
  {
   "cell_type": "markdown",
   "id": "65c7b3ff",
   "metadata": {},
   "source": [
    "Recall"
   ]
  },
  {
   "cell_type": "code",
   "execution_count": 10,
   "id": "eadcc87c",
   "metadata": {},
   "outputs": [
    {
     "data": {
      "text/plain": [
       "0.15867981140162882"
      ]
     },
     "execution_count": 10,
     "metadata": {},
     "output_type": "execute_result"
    }
   ],
   "source": [
    "recall_score(test_y, pred_y)"
   ]
  },
  {
   "cell_type": "code",
   "execution_count": 11,
   "id": "c18da649",
   "metadata": {},
   "outputs": [
    {
     "data": {
      "text/plain": [
       "0.15867981140162882"
      ]
     },
     "execution_count": 11,
     "metadata": {},
     "output_type": "execute_result"
    }
   ],
   "source": [
    "1851/(1851+9814)"
   ]
  },
  {
   "cell_type": "markdown",
   "id": "032178b3",
   "metadata": {},
   "source": [
    "Specificity"
   ]
  },
  {
   "cell_type": "code",
   "execution_count": 12,
   "id": "09a37f86",
   "metadata": {},
   "outputs": [
    {
     "data": {
      "text/plain": [
       "0.9775247440515017"
      ]
     },
     "execution_count": 12,
     "metadata": {},
     "output_type": "execute_result"
    }
   ],
   "source": [
    "68937 / (68937 + 1585)"
   ]
  },
  {
   "cell_type": "markdown",
   "id": "0eb3b704",
   "metadata": {},
   "source": [
    "Precision"
   ]
  },
  {
   "cell_type": "code",
   "execution_count": 13,
   "id": "bc673667",
   "metadata": {},
   "outputs": [
    {
     "data": {
      "text/plain": [
       "0.5387077997671711"
      ]
     },
     "execution_count": 13,
     "metadata": {},
     "output_type": "execute_result"
    }
   ],
   "source": [
    "precision_score(test_y, pred_y)"
   ]
  },
  {
   "cell_type": "code",
   "execution_count": 14,
   "id": "fa7c5000",
   "metadata": {},
   "outputs": [
    {
     "data": {
      "text/plain": [
       "0.5387077997671711"
      ]
     },
     "execution_count": 14,
     "metadata": {},
     "output_type": "execute_result"
    }
   ],
   "source": [
    "(1851)/(1851+1585)"
   ]
  },
  {
   "cell_type": "code",
   "execution_count": 15,
   "id": "f88e41d7",
   "metadata": {},
   "outputs": [
    {
     "name": "stderr",
     "output_type": "stream",
     "text": [
      "/opt/homebrew/Caskroom/miniforge/base/lib/python3.9/site-packages/sklearn/utils/deprecation.py:87: FutureWarning: Function plot_roc_curve is deprecated; Function :func:`plot_roc_curve` is deprecated in 1.0 and will be removed in 1.2. Use one of the class methods: :meth:`sklearn.metric.RocCurveDisplay.from_predictions` or :meth:`sklearn.metric.RocCurveDisplay.from_estimator`.\n",
      "  warnings.warn(msg, category=FutureWarning)\n"
     ]
    },
    {
     "data": {
      "text/plain": [
       "<sklearn.metrics._plot.roc_curve.RocCurveDisplay at 0x1076a3580>"
      ]
     },
     "execution_count": 15,
     "metadata": {},
     "output_type": "execute_result"
    },
    {
     "data": {
      "image/png": "[encoded data removed]",
      "text/plain": [
       "<Figure size 432x288 with 1 Axes>"
      ]
     },
     "metadata": {
      "needs_background": "light"
     },
     "output_type": "display_data"
    }
   ],
   "source": [
    "plot_roc_curve(clf, test_X, test_y)"
   ]
  },
  {
   "cell_type": "code",
   "execution_count": null,
   "id": "5fb597b9",
   "metadata": {},
   "outputs": [],
   "source": []
  }
 ],
 "metadata": {
  "kernelspec": {
   "display_name": "Python 3 (ipykernel)",
   "language": "python",
   "name": "python3"
  },
  "language_info": {
   "codemirror_mode": {
    "name": "ipython",
    "version": 3
   },
   "file_extension": ".py",
   "mimetype": "text/x-python",
   "name": "python",
   "nbconvert_exporter": "python",
   "pygments_lexer": "ipython3",
   "version": "3.9.7"
  }
 },
 "nbformat": 4,
 "nbformat_minor": 5
}
