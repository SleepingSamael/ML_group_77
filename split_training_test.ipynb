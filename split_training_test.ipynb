{
 "cells": [
  {
   "cell_type": "code",
   "execution_count": 2,
   "id": "61a7d71e-bcec-4693-87fe-799e1203e5db",
   "metadata": {},
   "outputs": [
    {
     "ename": "NameError",
     "evalue": "name 'data_no_pre' is not defined",
     "output_type": "error",
     "traceback": [
      "\u001B[0;31m---------------------------------------------------------------------------\u001B[0m",
      "\u001B[0;31mNameError\u001B[0m                                 Traceback (most recent call last)",
      "Input \u001B[0;32mIn [2]\u001B[0m, in \u001B[0;36m<cell line: 11>\u001B[0;34m()\u001B[0m\n\u001B[1;32m      9\u001B[0m \u001B[38;5;66;03m# Drop all pre-diabetes entries\u001B[39;00m\n\u001B[1;32m     10\u001B[0m data_frame \u001B[38;5;241m=\u001B[39m data_frame[data_frame[\u001B[38;5;124m\"\u001B[39m\u001B[38;5;124mDiabetes_012\u001B[39m\u001B[38;5;124m\"\u001B[39m] \u001B[38;5;241m!=\u001B[39m \u001B[38;5;241m1.0\u001B[39m]\n\u001B[0;32m---> 11\u001B[0m \u001B[38;5;28mprint\u001B[39m(\u001B[43mdata_no_pre\u001B[49m\u001B[38;5;241m.\u001B[39mhead())\n\u001B[1;32m     13\u001B[0m \u001B[38;5;66;03m# Split data into training and test set\u001B[39;00m\n\u001B[1;32m     14\u001B[0m \u001B[38;5;66;03m# Because random_state is set at 25 the dataset stays the same each time\u001B[39;00m\n\u001B[1;32m     15\u001B[0m training_data, testing_data \u001B[38;5;241m=\u001B[39m train_test_split(data_frame, test_size\u001B[38;5;241m=\u001B[39m\u001B[38;5;241m0.33\u001B[39m, random_state\u001B[38;5;241m=\u001B[39m\u001B[38;5;241m25\u001B[39m)\n",
      "\u001B[0;31mNameError\u001B[0m: name 'data_no_pre' is not defined"
     ]
    }
   ],
   "source": [
    "# Data imports\n",
    "import pandas as pd\n",
    "from sklearn.model_selection import train_test_split\n",
    "import csv\n",
    "\n",
    "# Load data frame with pandas (pd)\n",
    "data_frame = pd.read_csv('./diabetes/diabetes_012_health_indicators_BRFSS2015.csv')\n",
    "\n",
    "# Drop all pre-diabetes entries\n",
    "data_frame = data_frame[data_frame[\"Diabetes_012\"] != 1.0]\n",
    "\n",
    "# Split data into training and test set\n",
    "# Because random_state is set at 25 the dataset stays the same each time\n",
    "training_data, testing_data = train_test_split(data_frame, test_size=0.33, random_state=25)\n",
    "\n",
    "# write testing data to csv file\n",
    "testing_data.to_csv(\"./diabetes/testing_data(no_pre-diabetes).csv\",  index=False)\n",
    "\n",
    "# write training data to csv file\n",
    "training_data.to_csv(\"./diabetes/training_data(no_pre-diabetes).csv\",  index=False)\n",
    "\n",
    "# Code below is just to check if the percentage of 0 labels remain roughly the same\n",
    "\n",
    "# Check distribution of training data\n",
    "# Determine occurences and most representated class percentage again for training data\n",
    "# Get occurence percentage for each label represented in the dataset. Going from big to small. \n",
    "label_percentage_training = training_data['Diabetes_012'].value_counts(ascending = False, dropna=True, normalize = True)\n",
    "\n",
    "print(\"No. of instances training data: \", len(training_data[\"Diabetes_012\"]))\n",
    "print(\"Labels and their corresponding percentages:\")\n",
    "print(label_percentage_training)\n",
    "\n",
    "# Check distribution of testing data\n",
    "# Determine occurences and most representated class percentage again for training data\n",
    "# Get occurence percentage for each label represented in the dataset. Going from big to small. \n",
    "label_percentage_testing = testing_data['Diabetes_012'].value_counts(ascending = False, dropna=True, normalize = True)\n",
    "print(\"\\n\")\n",
    "print(\"No. of instances testing data: \",len(testing_data[\"Diabetes_012\"]))\n",
    "print(\"Labels and their corresponding percentages:\")\n",
    "print(label_percentage_testing)\n"
   ]
  }
 ],
 "metadata": {
  "kernelspec": {
   "display_name": "Python 3 (ipykernel)",
   "language": "python",
   "name": "python3"
  },
  "language_info": {
   "codemirror_mode": {
    "name": "ipython",
    "version": 3
   },
   "file_extension": ".py",
   "mimetype": "text/x-python",
   "name": "python",
   "nbconvert_exporter": "python",
   "pygments_lexer": "ipython3",
   "version": "3.8.10"
  }
 },
 "nbformat": 4,
 "nbformat_minor": 5
}