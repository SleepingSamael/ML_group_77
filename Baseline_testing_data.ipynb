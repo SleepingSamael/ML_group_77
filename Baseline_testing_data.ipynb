{
 "cells": [
  {
   "cell_type": "code",
   "execution_count": 32,
   "id": "44ebd737-67e2-45c8-8a70-87aa4963f2ba",
   "metadata": {},
   "outputs": [],
   "source": [
    "import pandas as pd\n",
    "from sklearn.model_selection import train_test_split\n",
    "import csv\n",
    "import prince"
   ]
  },
  {
   "cell_type": "code",
   "execution_count": 33,
   "id": "1db8ae80-a293-4fa9-aafb-b5c33d0514cb",
   "metadata": {},
   "outputs": [],
   "source": [
    "# Load data frame with pandas (pd)\n",
    "testing_data = pd.read_csv('./diabetes/testing_data_diabetes.csv')"
   ]
  },
  {
   "cell_type": "code",
   "execution_count": 34,
   "id": "22320af6-18fb-4991-a3ad-5711b8c6806d",
   "metadata": {},
   "outputs": [
    {
     "name": "stdout",
     "output_type": "stream",
     "text": [
      "Most represented label:  0.0\n",
      "Expected accuracy of major class classification:  84.17129546676223 %\n"
     ]
    }
   ],
   "source": [
    "# Get occurence percentage for each label represented in the dataset. Going from big to small. \n",
    "label_percentage_total = testing_data[\"Diabetes_012\"].value_counts(ascending = False, dropna=True, normalize = True)\n",
    "\n",
    "# Get most represented class percentage\n",
    "accuracy_major_class_classification = label_percentage_total[0]\n",
    "most_represented_label = testing_data[\"Diabetes_012\"].value_counts().idxmax()\n",
    "\n",
    "#Print outcome\n",
    "print(\"Most represented label: \", most_represented_label)\n",
    "print(\"Expected accuracy of major class classification: \", accuracy_major_class_classification *100 , \"%\")"
   ]
  }
 ],
 "metadata": {
  "kernelspec": {
   "display_name": "Python 3 (ipykernel)",
   "language": "python",
   "name": "python3"
  },
  "language_info": {
   "codemirror_mode": {
    "name": "ipython",
    "version": 3
   },
   "file_extension": ".py",
   "mimetype": "text/x-python",
   "name": "python",
   "nbconvert_exporter": "python",
   "pygments_lexer": "ipython3",
   "version": "3.8.10"
  }
 },
 "nbformat": 4,
 "nbformat_minor": 5
}