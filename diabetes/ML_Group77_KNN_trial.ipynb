{
 "cells": [
  {
   "cell_type": "code",
   "execution_count": 23,
   "id": "3116e604",
   "metadata": {},
   "outputs": [],
   "source": [
    "import numpy as np\n",
    "import pandas as pd\n",
    "from sklearn.neighbors import KNeighborsClassifier\n",
    "import matplotlib.pyplot as plt\n",
    "from sklearn.model_selection import train_test_split\n"
   ]
  },
  {
   "cell_type": "code",
   "execution_count": null,
   "id": "d710670d",
   "metadata": {},
   "outputs": [],
   "source": [
    "# Reading the data\n",
    "data = pd.read_csv(\"training_data(no_pre-diabetes).csv\")"
   ]
  },
  {
   "cell_type": "code",
   "execution_count": 30,
   "id": "4f9cc39f",
   "metadata": {},
   "outputs": [],
   "source": [
    "# Splitting features and target\n",
    "x = data.iloc[:,1:]\n",
    "y = data.Diabetes_012\n",
    "\n",
    "# Splitting training and validation dataset\n",
    "x_train, x_test, y_train, y_test = train_test_split(x, y, test_size=0.1)"
   ]
  },
  {
   "cell_type": "code",
   "execution_count": 44,
   "id": "e93f79f3",
   "metadata": {},
   "outputs": [],
   "source": [
    "# First KNN with hyperparameter 5\n",
    "knn = KNeighborsClassifier(5)\n",
    "knn.fit(x_train,y_train)\n",
    "\n",
    "y_predicted = knn.predict(x_test)\n"
   ]
  },
  {
   "cell_type": "code",
   "execution_count": 33,
   "id": "d2f6edda",
   "metadata": {},
   "outputs": [
    {
     "name": "stdout",
     "output_type": "stream",
     "text": [
      "accuracy  0.8476059207766525\n"
     ]
    }
   ],
   "source": [
    "# Show accuracy\n",
    "from sklearn.metrics import accuracy_score\n",
    "\n",
    "print('accuracy ', accuracy_score(y_test, y_predicted))"
   ]
  },
  {
   "cell_type": "code",
   "execution_count": 38,
   "id": "6a75a533",
   "metadata": {},
   "outputs": [],
   "source": [
    "# Check if picking up 8 important features improve the accuracy\n",
    "essentials = [\"HighBP\",\"HighChol\",\"BMI\",\"HeartDiseaseorAttack\",\"GenHlth\",\"PhysHlth\",\"DiffWalk\",\"Age\"]\n",
    "knn.fit(x_train[essentials],y_train)\n",
    "y_predicted_ess = knn.predict(x_test[essentials])"
   ]
  },
  {
   "cell_type": "code",
   "execution_count": 39,
   "id": "1a6452fa",
   "metadata": {},
   "outputs": [
    {
     "name": "stdout",
     "output_type": "stream",
     "text": [
      "accuracy 0.8450290645412597\n"
     ]
    }
   ],
   "source": [
    "# Accuracy didn't improve\n",
    "print(\"accuracy\",accuracy_score(y_test,y_predicted_ess))"
   ]
  },
  {
   "cell_type": "code",
   "execution_count": 40,
   "id": "256ad2b6",
   "metadata": {},
   "outputs": [],
   "source": [
    "# Check if higher hyperparameter\n",
    "knn_2 = KNeighborsClassifier(15)\n",
    "knn_2.fit(x_train,y_train)\n",
    "\n",
    "y_predicted_more = knn_2.predict(x_test)"
   ]
  },
  {
   "cell_type": "code",
   "execution_count": 41,
   "id": "888dfe94",
   "metadata": {},
   "outputs": [
    {
     "name": "stdout",
     "output_type": "stream",
     "text": [
      "accuracy  0.857973272607419\n"
     ]
    }
   ],
   "source": [
    "# No significant improvement\n",
    "print('accuracy ', accuracy_score(y_test, y_predicted_more))"
   ]
  },
  {
   "cell_type": "code",
   "execution_count": 43,
   "id": "d2ab0f05",
   "metadata": {},
   "outputs": [
    {
     "name": "stdout",
     "output_type": "stream",
     "text": [
      "accuracy of hyperparamater 6 0.8567148079343201\n",
      "accuracy of hyperparamater 7 0.8514412416851441\n",
      "accuracy of hyperparamater 8 0.8574339306046623\n",
      "accuracy of hyperparamater 9 0.8548570743692695\n",
      "accuracy of hyperparamater 10 0.8585126146101756\n",
      "accuracy of hyperparamater 11 0.8580331994966142\n",
      "accuracy of hyperparamater 12 0.8591118835021274\n",
      "accuracy of hyperparamater 13 0.857014442380296\n",
      "accuracy of hyperparamater 14 0.8604902019536166\n"
     ]
    }
   ],
   "source": [
    "# Try multiple hyperparameters to find the best K\n",
    "for i in range(6,15):\n",
    "    knn_trial = KNeighborsClassifier(i)\n",
    "    knn_trial.fit(x_train,y_train)\n",
    "    y_predicted_trial = knn_trial.predict(x_test)\n",
    "    print(\"accuracy of hyperparamater {}\".format(i), accuracy_score(y_test,y_predicted_trial))"
   ]
  }
 ],
 "metadata": {
  "kernelspec": {
   "display_name": "Python 3 (ipykernel)",
   "language": "python",
   "name": "python3"
  },
  "language_info": {
   "codemirror_mode": {
    "name": "ipython",
    "version": 3
   },
   "file_extension": ".py",
   "mimetype": "text/x-python",
   "name": "python",
   "nbconvert_exporter": "python",
   "pygments_lexer": "ipython3",
   "version": "3.9.7"
  }
 },
 "nbformat": 4,
 "nbformat_minor": 5
}
