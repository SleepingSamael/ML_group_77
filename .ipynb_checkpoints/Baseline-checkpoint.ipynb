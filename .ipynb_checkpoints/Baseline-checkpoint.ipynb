{
 "cells": [
  {
   "cell_type": "code",
   "execution_count": 1,
   "id": "44ebd737-67e2-45c8-8a70-87aa4963f2ba",
   "metadata": {},
   "outputs": [],
   "source": [
    "import numpy as np\n",
    "import pandas as pd"
   ]
  },
  {
   "cell_type": "code",
   "execution_count": 2,
   "id": "d5cfbaa4-b1b7-4a79-a32f-f81637e82597",
   "metadata": {},
   "outputs": [],
   "source": [
    "# Load data frame with pandas (pd)\n",
    "data_frame = pd.read_csv('./diabetes/diabetes_012_health_indicators_BRFSS2015.csv')"
   ]
  },
  {
   "cell_type": "code",
   "execution_count": 3,
   "id": "22320af6-18fb-4991-a3ad-5711b8c6806d",
   "metadata": {},
   "outputs": [
    {
     "name": "stdout",
     "output_type": "stream",
     "text": [
      "Most represented label:  0.0\n",
      "Expected accuracy of major class classification:  84.24116997792494 %\n"
     ]
    }
   ],
   "source": [
    "# Get occurence percentage for each label represented in the dataset. Going from big to small. \n",
    "label_presence_percentage = data_frame['Diabetes_012'].value_counts(ascending = False, dropna=True, normalize = True)\n",
    "\n",
    "# Get most represented class percentage\n",
    "accuracy_major_class_classification = label_presence_percentage[0]\n",
    "most_represented_label = data_frame['Diabetes_012'].value_counts().idxmax()\n",
    "\n",
    "#Print outcome\n",
    "print(\"Most represented label: \", most_represented_label)\n",
    "print(\"Expected accuracy of major class classification: \", accuracy_major_class_classification *100 , \"%\")"
   ]
  }
 ],
 "metadata": {
  "kernelspec": {
   "display_name": "Python 3 (ipykernel)",
   "language": "python",
   "name": "python3"
  },
  "language_info": {
   "codemirror_mode": {
    "name": "ipython",
    "version": 3
   },
   "file_extension": ".py",
   "mimetype": "text/x-python",
   "name": "python",
   "nbconvert_exporter": "python",
   "pygments_lexer": "ipython3",
   "version": "3.9.7"
  }
 },
 "nbformat": 4,
 "nbformat_minor": 5
}
