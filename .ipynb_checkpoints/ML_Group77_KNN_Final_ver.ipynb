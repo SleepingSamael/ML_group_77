{
 "cells": [
  {
   "cell_type": "code",
   "execution_count": 2,
   "id": "3116e604",
   "metadata": {},
   "outputs": [],
   "source": [
    "import numpy as np\n",
    "import pandas as pd\n",
    "from sklearn.neighbors import KNeighborsClassifier\n",
    "import matplotlib.pyplot as plt\n",
    "from sklearn.model_selection import train_test_split\n",
    "from sklearn.model_selection import GridSearchCV\n",
    "from sklearn.metrics import accuracy_score\n",
    "\n"
   ]
  },
  {
   "cell_type": "code",
   "execution_count": 3,
   "id": "d710670d",
   "metadata": {},
   "outputs": [],
   "source": [
    "# Reading the data\n",
    "data = pd.read_csv(\"../diabetes/training_data(no_pre-diabetes).csv")"
   ]
  },
  {
   "cell_type": "code",
   "execution_count": 4,
   "id": "4f9cc39f",
   "metadata": {},
   "outputs": [],
   "source": [
    "# Splitting features and target\n",
    "x = data.iloc[:,1:]\n",
    "y = data.Diabetes_012\n",
    "\n",
    "\n",
    "# Splitting training and validation dataset\n",
    "x_train, x_val, y_train, y_val = train_test_split(x, y, test_size=0.1)"
   ]
  },
  {
   "cell_type": "code",
   "execution_count": null,
   "id": "7bf6f3f4",
   "metadata": {
    "scrolled": false
   },
   "outputs": [],
   "source": [
    "# visualize the plot between accuracy and K value\n",
    "acc = []\n",
    "from sklearn import metrics\n",
    "for i in range(1,40):\n",
    "    knn_trial = KNeighborsClassifier(n_neighbors = i)\n",
    "    knn_trial.fit(x_train,y_train)\n",
    "    yhat = knn_trial.predict(x_val)\n",
    "    acc.append(metrics.accuracy_score(y_val, yhat))\n",
    "\n",
    "plt.figure(figsize=(10,6))\n",
    "plt.plot(range(1,40),acc,color = 'blue',linestyle='dashed',\n",
    "         marker='o',markerfacecolor='red', markersize=10)\n",
    "plt.title('accuracy vs. K Value')\n",
    "plt.xlabel('K')\n",
    "plt.ylabel('Accuracy')\n",
    "print(\"Maximum accuracy:-\",max(acc),\"at K =\",acc.index(max(acc)))"
   ]
  },
  {
   "cell_type": "code",
   "execution_count": null,
   "id": "f6332df8",
   "metadata": {},
   "outputs": [],
   "source": [
    "# visualize the plot between error rate and K value\n",
    "error_rate = []\n",
    "for i in range(1,40):\n",
    " knn = KNeighborsClassifier(n_neighbors=i)\n",
    " knn.fit(x_train,y_train)\n",
    " pred_i = knn.predict(x_val)\n",
    " error_rate.append(np.mean(pred_i != y_val))\n",
    "\n",
    "plt.figure(figsize=(10,6))\n",
    "plt.plot(range(1,40),error_rate,color='blue', linestyle='dashed',\n",
    "         marker='o',markerfacecolor='red', markersize=10)\n",
    "plt.title('Error Rate vs. K Value')\n",
    "plt.xlabel('K')\n",
    "plt.ylabel('Error Rate')\n",
    "print(\"Minimum error:-\",min(error_rate),\"at K =\",error_rate.index(min(error_rate)))"
   ]
  },
  {
   "cell_type": "code",
   "execution_count": 15,
   "id": "2ad2795f",
   "metadata": {
    "scrolled": true
   },
   "outputs": [
    {
     "name": "stdout",
     "output_type": "stream",
     "text": [
      "\n",
      "KNN Accuracy for base model=: 0.8475, \n",
      "precision: 0.4098, \n",
      "recall: 0.2052,\n",
      "F1: 0.2735\n"
     ]
    }
   ],
   "source": [
    "# Default setting = base model\n",
    "from sklearn.metrics import confusion_matrix, precision_score, recall_score\n",
    "knn_base = KNeighborsClassifier()\n",
    "knn_base.fit(x_train, y_train)\n",
    "\n",
    "# Prediction\n",
    "base_val_pred=knn_base.predict(x_val)\n",
    "\n",
    "# Accuracy, Precision, Recall, Specificity\n",
    "confusion_hard_base = confusion_matrix( y_val, base_val_pred)\n",
    "accuracy_base = accuracy_score(y_val , base_val_pred)\n",
    "precision_base = precision_score(y_val , base_val_pred, pos_label = 2.0)\n",
    "recall_base = recall_score(y_val , base_val_pred,pos_label = 2.0)\n",
    "\n",
    "tn_base, fp_base, fn_base, tp_base = confusion_matrix(y_val, base_val_pred).ravel()\n",
    "specificity_base = tn_base/(tn_base+fp_base)\n",
    "\n",
    "print('\\nKNN Accuracy for base model=: {0:.4f}, \\nprecision: {1:.4f}, \\nrecall: {2:.4f},\\\n",
    "\\nspecificity: {3:.4f}'.format(accuracy_base, precision_base, recall_base, specificity_base))\n"
   ]
  },
  {
   "cell_type": "code",
   "execution_count": 7,
   "id": "89efe868",
   "metadata": {},
   "outputs": [
    {
     "name": "stdout",
     "output_type": "stream",
     "text": [
      "The score for kNN without cross val and without using smote is\n",
      "Training set:  86.94%\n",
      "Validation set:  85.70%\n",
      "Test set:  85.70%\n"
     ]
    }
   ],
   "source": [
    "# Using K = 15\n",
    "knn = KNeighborsClassifier(n_neighbors=15)\n",
    "knn.fit(x_train, y_train)\n",
    "\n",
    "print(\"The score for kNN without cross val and without using smote is\")\n",
    "print(\"Training set: {:6.2f}%\".format(100*knn.score(x_train, y_train)))\n",
    "print(\"Validation set: {:6.2f}%\".format(100*knn.score(x_val, y_val)))"
   ]
  },
  {
   "cell_type": "code",
   "execution_count": 10,
   "id": "a0eaec87",
   "metadata": {
    "scrolled": true
   },
   "outputs": [
    {
     "name": "stdout",
     "output_type": "stream",
     "text": [
      "\n",
      "KNN Accuracy for test set=: 0.8570, \n",
      "precision: 0.4624, \n",
      "recall: 0.1397,\n",
      "F1: 0.2145\n"
     ]
    }
   ],
   "source": [
    "# Prediction scores for K = 15\n",
    "from sklearn.metrics import confusion_matrix, precision_score, recall_score\n",
    "\n",
    "# Prediction\n",
    "val_pred=knn.predict(x_val)\n",
    "\n",
    "# Accuracy, Precision, Recall, Specificity\n",
    "confusion_hard_val = confusion_matrix( y_val, val_pred)\n",
    "accuracy_val = accuracy_score(y_val , val_pred)\n",
    "precision_val = precision_score(y_val , val_pred, pos_label = 2.0)\n",
    "recall_val = recall_score(y_val , val_pred,pos_label = 2.0)\n",
    "\n",
    "tn, fp, fn, tp = confusion_matrix(y_val, val_pred).ravel()\n",
    "specificity_val = tn/(tn+fp)\n",
    "print('\\nKNN Accuracy for test set=: {0:.4f}, \\nprecision: {1:.4f}, \\nrecall: {2:.4f},\\\n",
    "\\nspecificity: {3:.4f}'.format(accuracy_val, precision_val, recall_val, specificity_val))"
   ]
  },
  {
   "cell_type": "code",
   "execution_count": 10,
   "id": "7079bc5a",
   "metadata": {},
   "outputs": [
    {
     "name": "stdout",
     "output_type": "stream",
     "text": [
      "\n",
      "KNN Accuracy for test set=: 0.8680, \n",
      "precision: 0.6203, \n",
      "recall: 0.1808,\n",
      "F1: 0.2800\n"
     ]
    }
   ],
   "source": [
    "# Test the model on test set\n",
    "\n",
    "from sklearn.metrics import confusion_matrix, precision_score, recall_score\n",
    "\n",
    "# Reading the data\n",
    "test_data = pd.read_csv(\"../diabetes/testing_data(no_pre-diabetes).csv")\n",
    "x_test = data.iloc[:,1:]\n",
    "y_test = data.Diabetes_012\n",
    "\n",
    "# Prediction\n",
    "test_pred=knn.predict(x_test)\n",
    "\n",
    "# Accuracy, Precision, Recall, Specificity\n",
    "confusion_hard = confusion_matrix( y_test, test_pred)\n",
    "accuracy = accuracy_score(y_test , test_pred)\n",
    "precision = precision_score(y_test , test_pred, pos_label = 2.0)\n",
    "recall = recall_score(y_test , test_pred,pos_label = 2.0)\n",
    "tn, fp, fn, tp = confusion_matrix(y_test, test_pred).ravel()\n",
    "specificity = tn/(tn+fp)\n",
    "print('\\nKNN Accuracy for test set=: {0:.4f}, \\nprecision: {1:.4f}, \\nrecall: {2:.4f},\\\n",
    "\\nspecificity: {3:.4f}'.format(accuracy, precision, recall, specificity))\n"
   ]
  },
  {
   "cell_type": "code",
   "execution_count": 11,
   "id": "5bd27cec",
   "metadata": {},
   "outputs": [
    {
     "data": {
      "image/png": "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\n",
      "text/plain": [
       "<Figure size 432x288 with 2 Axes>"
      ]
     },
     "metadata": {
      "needs_background": "light"
     },
     "output_type": "display_data"
    }
   ],
   "source": [
    "# confusion_matrix plot\n",
    "import seaborn as sns\n",
    "class_label = [\"No_Diabetes\", \"Diabetes\"]\n",
    "df_cm = pd.DataFrame(confusion_hard, index = class_label, columns = class_label)\n",
    "sns.heatmap(df_cm, annot = True, fmt = \"d\",  cmap = \"Blues\" )\n",
    "plt.title('Confusion matrix for knn befoes balancing two classes', fontsize = 20); # title with fontsize 20"
   ]
  }
 ],
 "metadata": {
  "kernelspec": {
   "display_name": "Python 3 (ipykernel)",
   "language": "python",
   "name": "python3"
  },
  "language_info": {
   "codemirror_mode": {
    "name": "ipython",
    "version": 3
   },
   "file_extension": ".py",
   "mimetype": "text/x-python",
   "name": "python",
   "nbconvert_exporter": "python",
   "pygments_lexer": "ipython3",
   "version": "3.9.7"
  }
 },
 "nbformat": 4,
 "nbformat_minor": 5
}
